{
 "cells": [
  {
   "cell_type": "markdown",
   "id": "078a9517-63df-4d24-9d35-1365c99a9c91",
   "metadata": {},
   "source": [
    "# Process\n",
    "\n",
    "Update the data files to process time and places"
   ]
  },
  {
   "cell_type": "code",
   "execution_count": 39,
   "id": "91dc73cc-43eb-41a0-aff2-c6a577dd4d9d",
   "metadata": {},
   "outputs": [],
   "source": [
    "import json\n",
    "\n",
    "import pandas as pd\n",
    "import networkx as nx\n",
    "import numpy as np"
   ]
  },
  {
   "cell_type": "code",
   "execution_count": 40,
   "id": "55ea1d99-bcbf-47a8-b9ac-3c16649ae3b3",
   "metadata": {},
   "outputs": [],
   "source": [
    "def compute_year(time_value: str):\n",
    "    # print(time_value)\n",
    "    if pd.isna(time_value): return np.nan\n",
    "    \n",
    "    time_value = str(time_value)\n",
    "    if time_value[-1] == \"s\":\n",
    "        year = time_value[-5:-1]\n",
    "    else:\n",
    "        year = time_value[-4:] \n",
    "    \n",
    "    year = int(year)\n",
    "    # print(time_value, year)\n",
    "    return year"
   ]
  },
  {
   "cell_type": "code",
   "execution_count": 41,
   "id": "c0c53557-d99c-4f4f-8d3e-c978c7b13634",
   "metadata": {},
   "outputs": [],
   "source": [
    "# folder = \"../data/april-02/\"\n",
    "# folder = \"../data/april-27/\"\n",
    "folder = \"../data/may-02/\""
   ]
  },
  {
   "cell_type": "code",
   "execution_count": 42,
   "id": "95e16499-0178-4d0b-8e59-55eb47a0462e",
   "metadata": {},
   "outputs": [],
   "source": [
    "events_fp = folder + \"Events.csv\"\n",
    "institutions_fp = folder + \"Institutions.csv\"\n",
    "people_fp = folder + \"People.csv\"\n",
    "publications_fp = folder + \"Publications.csv\"\n",
    "events_fp = folder + \"Events.csv\"\n",
    "\n",
    "person_institution_fp = folder + \"Person-Institution.csv\"\n",
    "person_publication_fp = folder + \"Person-Publication.csv\"\n",
    "person_event_fp = folder + \"Person-Event.csv\""
   ]
  },
  {
   "cell_type": "code",
   "execution_count": 43,
   "id": "253701b3-6771-4963-9226-6a9fd19dc7c4",
   "metadata": {},
   "outputs": [],
   "source": [
    "df_pi = pd.read_csv(person_institution_fp, header=0, sep=\",\")"
   ]
  },
  {
   "cell_type": "code",
   "execution_count": 44,
   "id": "40babe98-34f9-4635-8a4d-11c2b6f589f8",
   "metadata": {},
   "outputs": [],
   "source": [
    "df_pp = pd.read_csv(person_publication_fp, header=0, sep=\",\")"
   ]
  },
  {
   "cell_type": "code",
   "execution_count": 45,
   "id": "ca692aee-122f-4f8d-941f-bc2ecf60c29c",
   "metadata": {},
   "outputs": [],
   "source": [
    "df_pe = pd.read_csv(person_event_fp, header=0, sep=\",\")"
   ]
  },
  {
   "cell_type": "code",
   "execution_count": 46,
   "id": "a1d1e65b-249d-475f-a362-300120f6a1e8",
   "metadata": {},
   "outputs": [
    {
     "data": {
      "text/html": [
       "<div>\n",
       "<style scoped>\n",
       "    .dataframe tbody tr th:only-of-type {\n",
       "        vertical-align: middle;\n",
       "    }\n",
       "\n",
       "    .dataframe tbody tr th {\n",
       "        vertical-align: top;\n",
       "    }\n",
       "\n",
       "    .dataframe thead th {\n",
       "        text-align: right;\n",
       "    }\n",
       "</style>\n",
       "<table border=\"1\" class=\"dataframe\">\n",
       "  <thead>\n",
       "    <tr style=\"text-align: right;\">\n",
       "      <th></th>\n",
       "      <th>Person</th>\n",
       "      <th>Institution</th>\n",
       "      <th>Type of relationship (general)</th>\n",
       "      <th>Type of relationship (specific - professor, director, etc)</th>\n",
       "      <th>Time (discrete or interval)</th>\n",
       "      <th>Time category</th>\n",
       "      <th>Place</th>\n",
       "      <th>Brief note</th>\n",
       "      <th>Event</th>\n",
       "    </tr>\n",
       "  </thead>\n",
       "  <tbody>\n",
       "    <tr>\n",
       "      <th>0</th>\n",
       "      <td>Bethwell Ogot</td>\n",
       "      <td>Makerere University</td>\n",
       "      <td>Academic</td>\n",
       "      <td>Lecturer in History Department</td>\n",
       "      <td>NaN</td>\n",
       "      <td>NaN</td>\n",
       "      <td>NaN</td>\n",
       "      <td>Friend of Tom Mboya</td>\n",
       "      <td>NaN</td>\n",
       "    </tr>\n",
       "    <tr>\n",
       "      <th>1</th>\n",
       "      <td>Bethwell Ogot</td>\n",
       "      <td>University of Nairobi</td>\n",
       "      <td>Academic</td>\n",
       "      <td>Head of History Department</td>\n",
       "      <td>NaN</td>\n",
       "      <td>NaN</td>\n",
       "      <td>NaN</td>\n",
       "      <td>NaN</td>\n",
       "      <td>NaN</td>\n",
       "    </tr>\n",
       "    <tr>\n",
       "      <th>2</th>\n",
       "      <td>Bethwell Ogot</td>\n",
       "      <td>East African Institute for Social and Cultural...</td>\n",
       "      <td>Secretary General</td>\n",
       "      <td>NaN</td>\n",
       "      <td>NaN</td>\n",
       "      <td>NaN</td>\n",
       "      <td>NaN</td>\n",
       "      <td>NaN</td>\n",
       "      <td>NaN</td>\n",
       "    </tr>\n",
       "    <tr>\n",
       "      <th>3</th>\n",
       "      <td>Bethwell Ogot</td>\n",
       "      <td>East African Publishing House</td>\n",
       "      <td>Chair of Board of Directors</td>\n",
       "      <td>NaN</td>\n",
       "      <td>NaN</td>\n",
       "      <td>NaN</td>\n",
       "      <td>NaN</td>\n",
       "      <td>NaN</td>\n",
       "      <td>NaN</td>\n",
       "    </tr>\n",
       "    <tr>\n",
       "      <th>4</th>\n",
       "      <td>Bethwell Ogot</td>\n",
       "      <td>East African Academy</td>\n",
       "      <td>Treasurer</td>\n",
       "      <td>NaN</td>\n",
       "      <td>1966</td>\n",
       "      <td>Year</td>\n",
       "      <td>NaN</td>\n",
       "      <td>Elected treasurer at the 1966 symposium, Kampala</td>\n",
       "      <td>NaN</td>\n",
       "    </tr>\n",
       "  </tbody>\n",
       "</table>\n",
       "</div>"
      ],
      "text/plain": [
       "          Person                                        Institution  \\\n",
       "0  Bethwell Ogot                                Makerere University   \n",
       "1  Bethwell Ogot                              University of Nairobi   \n",
       "2  Bethwell Ogot  East African Institute for Social and Cultural...   \n",
       "3  Bethwell Ogot                      East African Publishing House   \n",
       "4  Bethwell Ogot                               East African Academy   \n",
       "\n",
       "  Type of relationship (general)  \\\n",
       "0                       Academic   \n",
       "1                       Academic   \n",
       "2              Secretary General   \n",
       "3    Chair of Board of Directors   \n",
       "4                      Treasurer   \n",
       "\n",
       "  Type of relationship (specific - professor, director, etc)  \\\n",
       "0                     Lecturer in History Department           \n",
       "1                         Head of History Department           \n",
       "2                                                NaN           \n",
       "3                                                NaN           \n",
       "4                                                NaN           \n",
       "\n",
       "  Time (discrete or interval) Time category Place  \\\n",
       "0                         NaN           NaN   NaN   \n",
       "1                         NaN           NaN   NaN   \n",
       "2                         NaN           NaN   NaN   \n",
       "3                         NaN           NaN   NaN   \n",
       "4                        1966          Year   NaN   \n",
       "\n",
       "                                         Brief note Event  \n",
       "0                               Friend of Tom Mboya   NaN  \n",
       "1                                               NaN   NaN  \n",
       "2                                               NaN   NaN  \n",
       "3                                               NaN   NaN  \n",
       "4  Elected treasurer at the 1966 symposium, Kampala   NaN  "
      ]
     },
     "execution_count": 46,
     "metadata": {},
     "output_type": "execute_result"
    }
   ],
   "source": [
    "df_pi.head()"
   ]
  },
  {
   "cell_type": "code",
   "execution_count": 47,
   "id": "edf751de-82b9-433e-9b42-74ce61e2375b",
   "metadata": {},
   "outputs": [
    {
     "data": {
      "text/html": [
       "<div>\n",
       "<style scoped>\n",
       "    .dataframe tbody tr th:only-of-type {\n",
       "        vertical-align: middle;\n",
       "    }\n",
       "\n",
       "    .dataframe tbody tr th {\n",
       "        vertical-align: top;\n",
       "    }\n",
       "\n",
       "    .dataframe thead th {\n",
       "        text-align: right;\n",
       "    }\n",
       "</style>\n",
       "<table border=\"1\" class=\"dataframe\">\n",
       "  <thead>\n",
       "    <tr style=\"text-align: right;\">\n",
       "      <th></th>\n",
       "      <th>Person</th>\n",
       "      <th>Event</th>\n",
       "      <th>Type of relationship (participated, created, against)</th>\n",
       "      <th>Time</th>\n",
       "    </tr>\n",
       "  </thead>\n",
       "  <tbody>\n",
       "    <tr>\n",
       "      <th>0</th>\n",
       "      <td>Rebeka Njau</td>\n",
       "      <td>African Writers Conference</td>\n",
       "      <td>Participated</td>\n",
       "      <td>11-17 June 1962</td>\n",
       "    </tr>\n",
       "    <tr>\n",
       "      <th>1</th>\n",
       "      <td>Grace Ogot</td>\n",
       "      <td>African Writers Conference</td>\n",
       "      <td>Participated</td>\n",
       "      <td>11-17 June 1962</td>\n",
       "    </tr>\n",
       "    <tr>\n",
       "      <th>2</th>\n",
       "      <td>Ngũgĩ wa Thiong'o</td>\n",
       "      <td>African Writers Conference</td>\n",
       "      <td>Participated</td>\n",
       "      <td>11-17 June 1962</td>\n",
       "    </tr>\n",
       "    <tr>\n",
       "      <th>3</th>\n",
       "      <td>Rajat Neogy</td>\n",
       "      <td>African Writers Conference</td>\n",
       "      <td>Participated</td>\n",
       "      <td>11-17 June 1962</td>\n",
       "    </tr>\n",
       "    <tr>\n",
       "      <th>4</th>\n",
       "      <td>John Nagenda</td>\n",
       "      <td>African Writers Conference</td>\n",
       "      <td>Participated</td>\n",
       "      <td>11-17 June 1962</td>\n",
       "    </tr>\n",
       "  </tbody>\n",
       "</table>\n",
       "</div>"
      ],
      "text/plain": [
       "              Person                       Event  \\\n",
       "0        Rebeka Njau  African Writers Conference   \n",
       "1         Grace Ogot  African Writers Conference   \n",
       "2  Ngũgĩ wa Thiong'o  African Writers Conference   \n",
       "3        Rajat Neogy  African Writers Conference   \n",
       "4       John Nagenda  African Writers Conference   \n",
       "\n",
       "  Type of relationship (participated, created, against)             Time  \n",
       "0                                       Participated     11-17 June 1962  \n",
       "1                                       Participated     11-17 June 1962  \n",
       "2                                       Participated     11-17 June 1962  \n",
       "3                                       Participated     11-17 June 1962  \n",
       "4                                       Participated     11-17 June 1962  "
      ]
     },
     "execution_count": 47,
     "metadata": {},
     "output_type": "execute_result"
    }
   ],
   "source": [
    "df_pe.head()"
   ]
  },
  {
   "cell_type": "code",
   "execution_count": 48,
   "id": "04e19c78-568a-426f-a712-61690d17545f",
   "metadata": {},
   "outputs": [],
   "source": [
    "df_pe[\"Year\"] = df_pe[\"Time\"].apply(compute_year)"
   ]
  },
  {
   "cell_type": "code",
   "execution_count": 49,
   "id": "cfb0dba6-4b57-476c-a1f0-f3001dd2087d",
   "metadata": {
    "tags": []
   },
   "outputs": [],
   "source": [
    "df_pp[\"Year\"] = df_pp[\"Date written for publication\"].apply(compute_year)"
   ]
  },
  {
   "cell_type": "code",
   "execution_count": 50,
   "id": "c1938953-8c82-4041-9fc3-41b90f2fe331",
   "metadata": {},
   "outputs": [
    {
     "data": {
      "text/html": [
       "<div>\n",
       "<style scoped>\n",
       "    .dataframe tbody tr th:only-of-type {\n",
       "        vertical-align: middle;\n",
       "    }\n",
       "\n",
       "    .dataframe tbody tr th {\n",
       "        vertical-align: top;\n",
       "    }\n",
       "\n",
       "    .dataframe thead th {\n",
       "        text-align: right;\n",
       "    }\n",
       "</style>\n",
       "<table border=\"1\" class=\"dataframe\">\n",
       "  <thead>\n",
       "    <tr style=\"text-align: right;\">\n",
       "      <th></th>\n",
       "      <th>Person</th>\n",
       "      <th>Institution</th>\n",
       "      <th>Type of relationship (general)</th>\n",
       "      <th>Type of relationship (specific - professor, director, etc)</th>\n",
       "      <th>Time (discrete or interval)</th>\n",
       "      <th>Time category</th>\n",
       "      <th>Place</th>\n",
       "      <th>Brief note</th>\n",
       "      <th>Event</th>\n",
       "    </tr>\n",
       "  </thead>\n",
       "  <tbody>\n",
       "    <tr>\n",
       "      <th>0</th>\n",
       "      <td>Bethwell Ogot</td>\n",
       "      <td>Makerere University</td>\n",
       "      <td>Academic</td>\n",
       "      <td>Lecturer in History Department</td>\n",
       "      <td>NaN</td>\n",
       "      <td>NaN</td>\n",
       "      <td>NaN</td>\n",
       "      <td>Friend of Tom Mboya</td>\n",
       "      <td>NaN</td>\n",
       "    </tr>\n",
       "    <tr>\n",
       "      <th>1</th>\n",
       "      <td>Bethwell Ogot</td>\n",
       "      <td>University of Nairobi</td>\n",
       "      <td>Academic</td>\n",
       "      <td>Head of History Department</td>\n",
       "      <td>NaN</td>\n",
       "      <td>NaN</td>\n",
       "      <td>NaN</td>\n",
       "      <td>NaN</td>\n",
       "      <td>NaN</td>\n",
       "    </tr>\n",
       "    <tr>\n",
       "      <th>2</th>\n",
       "      <td>Bethwell Ogot</td>\n",
       "      <td>East African Institute for Social and Cultural...</td>\n",
       "      <td>Secretary General</td>\n",
       "      <td>NaN</td>\n",
       "      <td>NaN</td>\n",
       "      <td>NaN</td>\n",
       "      <td>NaN</td>\n",
       "      <td>NaN</td>\n",
       "      <td>NaN</td>\n",
       "    </tr>\n",
       "    <tr>\n",
       "      <th>3</th>\n",
       "      <td>Bethwell Ogot</td>\n",
       "      <td>East African Publishing House</td>\n",
       "      <td>Chair of Board of Directors</td>\n",
       "      <td>NaN</td>\n",
       "      <td>NaN</td>\n",
       "      <td>NaN</td>\n",
       "      <td>NaN</td>\n",
       "      <td>NaN</td>\n",
       "      <td>NaN</td>\n",
       "    </tr>\n",
       "    <tr>\n",
       "      <th>4</th>\n",
       "      <td>Bethwell Ogot</td>\n",
       "      <td>East African Academy</td>\n",
       "      <td>Treasurer</td>\n",
       "      <td>NaN</td>\n",
       "      <td>1966</td>\n",
       "      <td>Year</td>\n",
       "      <td>NaN</td>\n",
       "      <td>Elected treasurer at the 1966 symposium, Kampala</td>\n",
       "      <td>NaN</td>\n",
       "    </tr>\n",
       "  </tbody>\n",
       "</table>\n",
       "</div>"
      ],
      "text/plain": [
       "          Person                                        Institution  \\\n",
       "0  Bethwell Ogot                                Makerere University   \n",
       "1  Bethwell Ogot                              University of Nairobi   \n",
       "2  Bethwell Ogot  East African Institute for Social and Cultural...   \n",
       "3  Bethwell Ogot                      East African Publishing House   \n",
       "4  Bethwell Ogot                               East African Academy   \n",
       "\n",
       "  Type of relationship (general)  \\\n",
       "0                       Academic   \n",
       "1                       Academic   \n",
       "2              Secretary General   \n",
       "3    Chair of Board of Directors   \n",
       "4                      Treasurer   \n",
       "\n",
       "  Type of relationship (specific - professor, director, etc)  \\\n",
       "0                     Lecturer in History Department           \n",
       "1                         Head of History Department           \n",
       "2                                                NaN           \n",
       "3                                                NaN           \n",
       "4                                                NaN           \n",
       "\n",
       "  Time (discrete or interval) Time category Place  \\\n",
       "0                         NaN           NaN   NaN   \n",
       "1                         NaN           NaN   NaN   \n",
       "2                         NaN           NaN   NaN   \n",
       "3                         NaN           NaN   NaN   \n",
       "4                        1966          Year   NaN   \n",
       "\n",
       "                                         Brief note Event  \n",
       "0                               Friend of Tom Mboya   NaN  \n",
       "1                                               NaN   NaN  \n",
       "2                                               NaN   NaN  \n",
       "3                                               NaN   NaN  \n",
       "4  Elected treasurer at the 1966 symposium, Kampala   NaN  "
      ]
     },
     "execution_count": 50,
     "metadata": {},
     "output_type": "execute_result"
    }
   ],
   "source": [
    "df_pi.head()"
   ]
  },
  {
   "cell_type": "code",
   "execution_count": 51,
   "id": "b2aad60b-a751-4fef-82ef-15a317c06946",
   "metadata": {},
   "outputs": [],
   "source": [
    "# take only non event institutions\n",
    "# df_pi = df_pi[df_pi[\"Event\"] != \"Yes\"]"
   ]
  },
  {
   "cell_type": "code",
   "execution_count": 52,
   "id": "3cc51e7f-68a8-4fc8-8e20-8317e79ca4e3",
   "metadata": {
    "tags": []
   },
   "outputs": [],
   "source": [
    "df_pi[\"Year\"] = df_pi[\"Time (discrete or interval)\"].apply(compute_year)"
   ]
  },
  {
   "cell_type": "code",
   "execution_count": 53,
   "id": "30121bca-90e1-41f2-a42a-8db47a226b61",
   "metadata": {},
   "outputs": [],
   "source": [
    "df_pi.to_csv(person_institution_fp)"
   ]
  },
  {
   "cell_type": "code",
   "execution_count": 54,
   "id": "ea74b52e-37f2-4060-a664-033e709e868a",
   "metadata": {},
   "outputs": [],
   "source": [
    "df_pp.to_csv(person_publication_fp)"
   ]
  },
  {
   "cell_type": "code",
   "execution_count": 55,
   "id": "452898d7-e8d3-4ae3-b67e-03ef28c49e2e",
   "metadata": {},
   "outputs": [],
   "source": [
    "df_pe.to_csv(person_event_fp)"
   ]
  },
  {
   "cell_type": "markdown",
   "id": "e0502a14-021c-4636-bc23-ccbcf8647ff7",
   "metadata": {},
   "source": [
    "# Filter institutions"
   ]
  },
  {
   "cell_type": "code",
   "execution_count": 90,
   "id": "ac9aee62-2ae4-4df4-84ef-6e9cebb031b5",
   "metadata": {},
   "outputs": [],
   "source": [
    "df_i = pd.read_csv(institutions_fp, header=0, sep=\",\")"
   ]
  },
  {
   "cell_type": "code",
   "execution_count": 20,
   "id": "7b54d5d1-af3c-4eee-889c-5221785d570f",
   "metadata": {},
   "outputs": [],
   "source": [
    "# REMOVE EVENTS IN INSTITUTIONS TABLE\n",
    "# df_i = df_i[df_i.Event != \"Yes\"]"
   ]
  },
  {
   "cell_type": "code",
   "execution_count": 92,
   "id": "1d4aa468-f1ee-44e1-9999-f7f1cfc0c2ec",
   "metadata": {},
   "outputs": [],
   "source": [
    "#df_i[\"Date of Creation\"] = df_i[\"Date of Creation\"].astype('Int64')"
   ]
  },
  {
   "cell_type": "code",
   "execution_count": 93,
   "id": "73cef241-06ea-4a49-91a7-54d1334a2d4d",
   "metadata": {},
   "outputs": [],
   "source": [
    "#df_i[\"Date of closing\"] = df_i[\"Date of closing\"].astype('Int64')"
   ]
  },
  {
   "cell_type": "code",
   "execution_count": 21,
   "id": "cc492a1c-5479-4857-8e6c-de8eaa1cec25",
   "metadata": {},
   "outputs": [
    {
     "ename": "NameError",
     "evalue": "name 'df_i' is not defined",
     "output_type": "error",
     "traceback": [
      "\u001b[0;31m---------------------------------------------------------------------------\u001b[0m",
      "\u001b[0;31mNameError\u001b[0m                                 Traceback (most recent call last)",
      "\u001b[0;32m/tmp/ipykernel_984344/3091208269.py\u001b[0m in \u001b[0;36m<module>\u001b[0;34m\u001b[0m\n\u001b[0;32m----> 1\u001b[0;31m \u001b[0mdf_i\u001b[0m\u001b[0;34m.\u001b[0m\u001b[0mhead\u001b[0m\u001b[0;34m(\u001b[0m\u001b[0;34m)\u001b[0m\u001b[0;34m\u001b[0m\u001b[0;34m\u001b[0m\u001b[0m\n\u001b[0m",
      "\u001b[0;31mNameError\u001b[0m: name 'df_i' is not defined"
     ]
    }
   ],
   "source": [
    "df_i.head()"
   ]
  },
  {
   "cell_type": "code",
   "execution_count": 95,
   "id": "457c480e-dd03-43c4-8a69-025ea0f4516c",
   "metadata": {},
   "outputs": [],
   "source": [
    "df_i.to_csv(institutions_fp)"
   ]
  },
  {
   "cell_type": "markdown",
   "id": "00fd07ac-3a85-4621-b2ce-9156188434d4",
   "metadata": {
    "tags": []
   },
   "source": [
    "# Filter nodes that have only one event connexion"
   ]
  },
  {
   "cell_type": "code",
   "execution_count": 104,
   "id": "4756e13a-f8f5-4dac-93fc-ed7bca95b008",
   "metadata": {
    "tags": []
   },
   "outputs": [],
   "source": [
    "df_e = pd.read_csv(events_fp, header=0, sep=\",\")"
   ]
  },
  {
   "cell_type": "code",
   "execution_count": 105,
   "id": "29aa111e-439e-447f-b682-51e938664776",
   "metadata": {
    "tags": []
   },
   "outputs": [
    {
     "data": {
      "text/html": [
       "<div>\n",
       "<style scoped>\n",
       "    .dataframe tbody tr th:only-of-type {\n",
       "        vertical-align: middle;\n",
       "    }\n",
       "\n",
       "    .dataframe tbody tr th {\n",
       "        vertical-align: top;\n",
       "    }\n",
       "\n",
       "    .dataframe thead th {\n",
       "        text-align: right;\n",
       "    }\n",
       "</style>\n",
       "<table border=\"1\" class=\"dataframe\">\n",
       "  <thead>\n",
       "    <tr style=\"text-align: right;\">\n",
       "      <th></th>\n",
       "      <th>Name</th>\n",
       "      <th>Description</th>\n",
       "      <th>Date</th>\n",
       "      <th>Place</th>\n",
       "    </tr>\n",
       "  </thead>\n",
       "  <tbody>\n",
       "    <tr>\n",
       "      <th>0</th>\n",
       "      <td>African Writers Conference</td>\n",
       "      <td>Officially titled \"Conference of African Write...</td>\n",
       "      <td>11-17 June 1962</td>\n",
       "      <td>Kampala</td>\n",
       "    </tr>\n",
       "    <tr>\n",
       "      <th>1</th>\n",
       "      <td>Conference for the Pan-African Freedom Movemen...</td>\n",
       "      <td>Held in Mwanza, Tanganyika to establish PAFMEC...</td>\n",
       "      <td>16-18 September 1958; April 1959; September 19...</td>\n",
       "      <td>Mwanza, Tanganykia; Zanzibar, Tanganykia; Mosh...</td>\n",
       "    </tr>\n",
       "    <tr>\n",
       "      <th>2</th>\n",
       "      <td>UNESCO conference</td>\n",
       "      <td>Dar es Salaam</td>\n",
       "      <td>July 1971</td>\n",
       "      <td>NaN</td>\n",
       "    </tr>\n",
       "  </tbody>\n",
       "</table>\n",
       "</div>"
      ],
      "text/plain": [
       "                                                Name  \\\n",
       "0                         African Writers Conference   \n",
       "1  Conference for the Pan-African Freedom Movemen...   \n",
       "2                                  UNESCO conference   \n",
       "\n",
       "                                         Description  \\\n",
       "0  Officially titled \"Conference of African Write...   \n",
       "1  Held in Mwanza, Tanganyika to establish PAFMEC...   \n",
       "2                                      Dar es Salaam   \n",
       "\n",
       "                                                Date  \\\n",
       "0                                    11-17 June 1962   \n",
       "1  16-18 September 1958; April 1959; September 19...   \n",
       "2                                          July 1971   \n",
       "\n",
       "                                               Place  \n",
       "0                                            Kampala  \n",
       "1  Mwanza, Tanganykia; Zanzibar, Tanganykia; Mosh...  \n",
       "2                                                NaN  "
      ]
     },
     "execution_count": 105,
     "metadata": {},
     "output_type": "execute_result"
    }
   ],
   "source": [
    "df_e"
   ]
  },
  {
   "cell_type": "code",
   "execution_count": 111,
   "id": "564d7b09-7c82-4920-bfb1-b558dfcf2aef",
   "metadata": {},
   "outputs": [],
   "source": [
    "person_with_events = []\n",
    "person_to_keep = []\n",
    "person_to_remove = []\n",
    "\n",
    "\n",
    "for i, row in df_pe.iterrows():\n",
    "    per = row.Person\n",
    "    if per in person_with_events:\n",
    "        person_to_keep.append(per)\n",
    "    person_with_events.append(per)\n",
    "\n",
    "    \n",
    "for i, row in df_pi.iterrows():\n",
    "    per = row.Person\n",
    "    if per in person_with_events:\n",
    "        person_to_keep.append(per)\n",
    "        \n",
    "    \n",
    "for i, row in df_pp.iterrows():\n",
    "    per = row.Person\n",
    "    if per in person_with_events:\n",
    "        person_to_keep.append(per)\n",
    "\n",
    "# print(person_to_keep)\n",
    "\n",
    "for i, row in df_pe.iterrows():\n",
    "    per = row.Person\n",
    "    if per not in person_to_keep:\n",
    "        person_to_remove.append(per)"
   ]
  },
  {
   "cell_type": "code",
   "execution_count": 112,
   "id": "426a110f-8955-4b7b-b94c-e30c56d5e6af",
   "metadata": {
    "collapsed": true,
    "jupyter": {
     "outputs_hidden": true
    },
    "tags": []
   },
   "outputs": [
    {
     "data": {
      "text/plain": [
       "['Rebeka Njau',\n",
       " 'Kanyama Chiume',\n",
       " 'Paul Bomani',\n",
       " 'Rashidi Kawawa',\n",
       " 'Saidi Maswanya',\n",
       " 'MM Kamaliza',\n",
       " 'EMK Mulira',\n",
       " 'Musa Shabani',\n",
       " 'Solomon Ali Ufu',\n",
       " 'Sekuwe Ali',\n",
       " 'Dickson Oruko Makasembo',\n",
       " 'Abdulla Mzee Khamis',\n",
       " 'Omari Hamadi',\n",
       " 'Mtumwa Borafia',\n",
       " 'Bibi Titi Mohamed',\n",
       " 'Roland Mwanjisi',\n",
       " 'Edward Barongo',\n",
       " 'Jeremiah Kasambala',\n",
       " 'Sheikh Alli Muhsin Bharwani',\n",
       " 'Ali Sultan',\n",
       " 'Jamal Ramadan Nasibu',\n",
       " 'Ronald Ngala',\n",
       " 'David Itumo Kiamba',\n",
       " 'Alfred Mingusa Akech',\n",
       " 'James Nzau Muimi',\n",
       " 'A Oloo',\n",
       " 'Joseph Wasakulu',\n",
       " 'A Ntale',\n",
       " 'B A Misri',\n",
       " 'Shafiq Arain',\n",
       " 'Andrew Assey',\n",
       " 'M N Rattansey',\n",
       " 'S Sarda',\n",
       " 'C D Shah',\n",
       " 'N S Patel',\n",
       " 'Alibhai Bhatia',\n",
       " 'Oginga Odinga',\n",
       " 'Mwai Kibaki',\n",
       " 'Josiah Mwangi Kariuki',\n",
       " 'Mbiyu Koinange',\n",
       " 'M A Masswanya',\n",
       " 'John Kakonge',\n",
       " 'B N Kununka',\n",
       " 'A Senyoga',\n",
       " 'S S Kigonya',\n",
       " 'O Shariff',\n",
       " 'A K Hanga',\n",
       " 'Amani Thani',\n",
       " 'Oscar Kambona',\n",
       " 'Joseph Murumbi',\n",
       " 'Lennox Gondae',\n",
       " 'James Kirua Wamatu',\n",
       " 'Joni Kamwithi Munyi',\n",
       " 'Arthur Ochwada',\n",
       " 'A.Z. Nailo Swai',\n",
       " 'Masinde Muliro',\n",
       " 'James Ochwata',\n",
       " 'Ezekiel Mphahele',\n",
       " 'J.K. Kale',\n",
       " 'Abu Mayaase',\n",
       " 'Abu Mayansa',\n",
       " 'B.N. Kununka',\n",
       " 'Y Kirya',\n",
       " \"J.M.B. Why'anka\",\n",
       " 'S.S. Chamsahsa',\n",
       " 'Ali Nuhsin',\n",
       " 'Joseph Mathenge',\n",
       " 'Peter Mbiyu Koinange',\n",
       " 'J.N. Muimi']"
      ]
     },
     "execution_count": 112,
     "metadata": {},
     "output_type": "execute_result"
    }
   ],
   "source": [
    "person_to_remove"
   ]
  },
  {
   "cell_type": "code",
   "execution_count": 113,
   "id": "e487fc5e-2563-4d91-bd60-c26154b49db7",
   "metadata": {},
   "outputs": [],
   "source": [
    "df_pe = df_pe[df_pe.Person.isin(person_to_keep)]"
   ]
  },
  {
   "cell_type": "code",
   "execution_count": 114,
   "id": "9debe081-35d2-4de9-aaa3-c2bb3faeea03",
   "metadata": {},
   "outputs": [],
   "source": [
    "df_persons = pd.read_csv(people_fp, header=0, sep=\",\")"
   ]
  },
  {
   "cell_type": "code",
   "execution_count": 115,
   "id": "04952b7d-f9e6-49c9-b8e1-7c7fe6ff835a",
   "metadata": {},
   "outputs": [],
   "source": [
    "df_persons = df_persons[~df_persons.Name.isin(person_to_remove)]"
   ]
  },
  {
   "cell_type": "code",
   "execution_count": 116,
   "id": "a273f493-cc78-4380-a0af-ef2ebd575282",
   "metadata": {},
   "outputs": [],
   "source": [
    "df_pe.to_csv(person_event_fp)"
   ]
  },
  {
   "cell_type": "code",
   "execution_count": 117,
   "id": "6ffaa4a8-7399-4b11-9879-7dd3162e6afa",
   "metadata": {},
   "outputs": [],
   "source": [
    "df_persons.to_csv(people_fp)"
   ]
  },
  {
   "cell_type": "markdown",
   "id": "5c3c88a8-35ca-4f0e-97f5-c528a8ffe5de",
   "metadata": {},
   "source": [
    "# Filter nodes that have only one event connexion (for version without event nodes)"
   ]
  },
  {
   "cell_type": "code",
   "execution_count": 56,
   "id": "738a3cd3-3e70-462d-880d-60bc47ab8fee",
   "metadata": {},
   "outputs": [],
   "source": [
    "event_name = \"Pan-African Freedom Movement for East and Central Africa\""
   ]
  },
  {
   "cell_type": "code",
   "execution_count": 57,
   "id": "f2467bce-9fae-4782-bc55-90f2b23add77",
   "metadata": {},
   "outputs": [],
   "source": [
    "person_with_events = []\n",
    "person_to_keep = []\n",
    "person_to_remove = []\n",
    "\n",
    "\n",
    "for i, row in df_pi.iterrows():\n",
    "    per = row.Person\n",
    "    inst = row.Institution\n",
    "    if inst == event_name:\n",
    "        person_with_events.append(per)\n",
    "        \n",
    "    \n",
    "for i, row in df_pi.iterrows():\n",
    "    per = row.Person\n",
    "    inst = row.Institution\n",
    "    \n",
    "    if inst != event_name and per in person_with_events:\n",
    "        person_to_keep.append(per)\n",
    "        \n",
    "for i, row in df_pp.iterrows():\n",
    "    per = row.Person\n",
    "    if per in person_with_events:\n",
    "        person_to_keep.append(per)\n",
    "\n",
    "for person in person_with_events:\n",
    "    if person not in person_to_keep:\n",
    "        person_to_remove.append(person)"
   ]
  },
  {
   "cell_type": "code",
   "execution_count": 58,
   "id": "8a17e17a-c0cb-4be0-95bf-a7478ea447f9",
   "metadata": {
    "collapsed": true,
    "jupyter": {
     "outputs_hidden": true
    },
    "tags": []
   },
   "outputs": [
    {
     "data": {
      "text/plain": [
       "['Julius Kiano',\n",
       " 'DO Makasembo (Dixon Ruoko)',\n",
       " 'DO Makasembo (Dixon Ruoko)',\n",
       " 'EE Khasakhala',\n",
       " 'EE Khasakhala',\n",
       " 'EE Khasakhala',\n",
       " 'Julius Nyerere',\n",
       " 'Julius Nyerere',\n",
       " 'Julius Nyerere',\n",
       " 'Paul Bomani',\n",
       " 'Rashidi Kawawa',\n",
       " 'John Rupia',\n",
       " 'John Rupia',\n",
       " 'John Rupia',\n",
       " 'Bhonke Munanka',\n",
       " 'Bhonke Munanka',\n",
       " 'Saidi Maswanya',\n",
       " 'MM Kamaliza',\n",
       " 'EMK Mulira',\n",
       " 'Abeid Karume',\n",
       " 'Abeid Karume',\n",
       " 'Abeid Karume',\n",
       " 'Abeid Karume',\n",
       " 'Thabit Kombo',\n",
       " 'Thabit Kombo',\n",
       " 'Thabit Kombo',\n",
       " 'Issa Shariff Musa',\n",
       " 'Issa Shariff Musa',\n",
       " 'Musa Shabani',\n",
       " 'Rashidi Hamadi',\n",
       " 'Rashidi Hamadi',\n",
       " 'Rashidi Hamadi',\n",
       " 'A R Mohamed (Babu)',\n",
       " 'A R Mohamed (Babu)',\n",
       " 'A R Mohamed (Babu)',\n",
       " 'A R Mohamed (Babu)',\n",
       " 'Mohsin Abeid',\n",
       " 'Mohsin Abeid',\n",
       " 'Abbas Sykes',\n",
       " 'Jeremiah Bakampenja',\n",
       " 'Jeremiah Bakampenja',\n",
       " 'Solomon Ali Ufu',\n",
       " 'Sekuwe Ali',\n",
       " 'Dickson Oruko Makasembo',\n",
       " 'Abdulla Mzee Khamis',\n",
       " 'Omari Hamadi',\n",
       " 'Mtumwa Borafia',\n",
       " 'Bibi Titi Mohamed',\n",
       " 'Roland Mwanjisi',\n",
       " 'Edward Barongo',\n",
       " 'Jeremiah Kasambala',\n",
       " 'Sheikh Alli Muhsin Bharwani',\n",
       " 'Ali Sultan',\n",
       " 'Jamal Ramadan Nasibu',\n",
       " 'Ronald Ngala',\n",
       " 'David Itumo Kiamba',\n",
       " 'William Malu',\n",
       " 'William Malu',\n",
       " 'Alfred Mingusa Akech',\n",
       " 'James Nzau Muimi',\n",
       " 'A Oloo',\n",
       " 'Joseph Wasakulu',\n",
       " 'Benedicto Kiwanuka',\n",
       " 'Benedicto Kiwanuka',\n",
       " 'A Ntale',\n",
       " 'B A Misri',\n",
       " 'Shafiq Arain',\n",
       " 'Andrew Assey',\n",
       " 'M N Rattansey',\n",
       " 'S Sarda',\n",
       " 'C D Shah',\n",
       " 'N S Patel',\n",
       " 'Alibhai Bhatia',\n",
       " 'Oginga Odinga',\n",
       " 'Mwai Kibaki',\n",
       " 'Josiah Mwangi Kariuki',\n",
       " 'Mbiyu Koinange',\n",
       " 'M A Masswanya',\n",
       " 'John Kakonge',\n",
       " 'B N Kukunka',\n",
       " 'A Senyoga',\n",
       " 'S S Kigonya',\n",
       " 'O Shariff',\n",
       " 'A K Hanga',\n",
       " 'Amani Thani']"
      ]
     },
     "execution_count": 58,
     "metadata": {},
     "output_type": "execute_result"
    }
   ],
   "source": [
    "person_to_remove"
   ]
  },
  {
   "cell_type": "code",
   "execution_count": 59,
   "id": "0a340f0d-3f39-44e2-8260-b563a2e2d526",
   "metadata": {},
   "outputs": [],
   "source": [
    "df_pi = df_pi[~df_pi.Person.isin(person_to_remove)]"
   ]
  },
  {
   "cell_type": "code",
   "execution_count": 60,
   "id": "de774ba5-3300-448b-9750-5960cd2bfcd5",
   "metadata": {},
   "outputs": [],
   "source": [
    "df_pi.to_csv(person_institution_fp)"
   ]
  },
  {
   "cell_type": "code",
   "execution_count": 61,
   "id": "f8953a05-367e-40ca-b492-8807d82451f1",
   "metadata": {},
   "outputs": [],
   "source": [
    "df_persons = pd.read_csv(people_fp, header=0, sep=\",\")"
   ]
  },
  {
   "cell_type": "code",
   "execution_count": 62,
   "id": "d61ed4a1-8a91-4e5e-8b86-c266ab96978d",
   "metadata": {},
   "outputs": [],
   "source": [
    "df_persons = df_persons[~df_persons.Name.isin(person_to_remove)]"
   ]
  },
  {
   "cell_type": "code",
   "execution_count": 63,
   "id": "8b02ea14-142e-4685-952a-6484f51068cc",
   "metadata": {},
   "outputs": [],
   "source": [
    "df_persons.to_csv(people_fp)"
   ]
  },
  {
   "cell_type": "code",
   "execution_count": null,
   "id": "d78b2317-92d7-4505-8df1-e401dd41bc82",
   "metadata": {},
   "outputs": [],
   "source": []
  }
 ],
 "metadata": {
  "kernelspec": {
   "display_name": "Python 3 (ipykernel)",
   "language": "python",
   "name": "python3"
  },
  "language_info": {
   "codemirror_mode": {
    "name": "ipython",
    "version": 3
   },
   "file_extension": ".py",
   "mimetype": "text/x-python",
   "name": "python",
   "nbconvert_exporter": "python",
   "pygments_lexer": "ipython3",
   "version": "3.9.16"
  }
 },
 "nbformat": 4,
 "nbformat_minor": 5
}
