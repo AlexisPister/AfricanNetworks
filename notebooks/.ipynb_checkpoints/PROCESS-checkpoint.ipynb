{
 "cells": [
  {
   "cell_type": "markdown",
   "id": "078a9517-63df-4d24-9d35-1365c99a9c91",
   "metadata": {},
   "source": [
    "# Process\n",
    "\n",
    "Update the data files to process time and places"
   ]
  },
  {
   "cell_type": "code",
   "execution_count": 21,
   "id": "91dc73cc-43eb-41a0-aff2-c6a577dd4d9d",
   "metadata": {},
   "outputs": [],
   "source": [
    "import json\n",
    "\n",
    "import pandas as pd\n",
    "import networkx as nx\n",
    "import numpy as np"
   ]
  },
  {
   "cell_type": "code",
   "execution_count": 62,
   "id": "55ea1d99-bcbf-47a8-b9ac-3c16649ae3b3",
   "metadata": {},
   "outputs": [],
   "source": [
    "def compute_year(time_value: str):\n",
    "    if pd.isna(time_value): return np.nan\n",
    "    \n",
    "    time_value = str(time_value)\n",
    "    if time_value[-1] == \"s\":\n",
    "        year = time_value[-5:-1]\n",
    "    else:\n",
    "        year = time_value[-4:] \n",
    "    \n",
    "    year = int(year)\n",
    "    print(time_value, year)\n",
    "    return year"
   ]
  },
  {
   "cell_type": "code",
   "execution_count": 63,
   "id": "c0c53557-d99c-4f4f-8d3e-c978c7b13634",
   "metadata": {},
   "outputs": [],
   "source": [
    "folder = \"../data/avril-02/\""
   ]
  },
  {
   "cell_type": "code",
   "execution_count": 64,
   "id": "95e16499-0178-4d0b-8e59-55eb47a0462e",
   "metadata": {},
   "outputs": [],
   "source": [
    "events_fp = folder + \"Events.csv\"\n",
    "institutions_fp = folder + \"Institutions.csv\"\n",
    "people_fp = folder + \"People.csv\"\n",
    "publications_fp = folder + \"Publications.csv\"\n",
    "\n",
    "person_institution_fp = folder + \"Person-Institution.csv\"\n",
    "person_publication_fp = folder + \"Person-Publication.csv\"\n",
    "person_event_fp = folder + \"Person-Event.csv\""
   ]
  },
  {
   "cell_type": "code",
   "execution_count": 65,
   "id": "253701b3-6771-4963-9226-6a9fd19dc7c4",
   "metadata": {},
   "outputs": [],
   "source": [
    "df_pi = pd.read_csv(person_institution_fp, header=0)"
   ]
  },
  {
   "cell_type": "code",
   "execution_count": 66,
   "id": "40babe98-34f9-4635-8a4d-11c2b6f589f8",
   "metadata": {},
   "outputs": [],
   "source": [
    "df_pp = pd.read_csv(person_publication_fp, header=0)"
   ]
  },
  {
   "cell_type": "code",
   "execution_count": 67,
   "id": "a1d1e65b-249d-475f-a362-300120f6a1e8",
   "metadata": {},
   "outputs": [
    {
     "data": {
      "text/html": [
       "<div>\n",
       "<style scoped>\n",
       "    .dataframe tbody tr th:only-of-type {\n",
       "        vertical-align: middle;\n",
       "    }\n",
       "\n",
       "    .dataframe tbody tr th {\n",
       "        vertical-align: top;\n",
       "    }\n",
       "\n",
       "    .dataframe thead th {\n",
       "        text-align: right;\n",
       "    }\n",
       "</style>\n",
       "<table border=\"1\" class=\"dataframe\">\n",
       "  <thead>\n",
       "    <tr style=\"text-align: right;\">\n",
       "      <th></th>\n",
       "      <th>Person</th>\n",
       "      <th>Brief note</th>\n",
       "      <th>Publication</th>\n",
       "      <th>Type of relationship (writer, reader, etc)</th>\n",
       "      <th>Date written for publication</th>\n",
       "      <th>Volume/Issue/Number</th>\n",
       "      <th>Date established</th>\n",
       "      <th>Date closed down</th>\n",
       "    </tr>\n",
       "  </thead>\n",
       "  <tbody>\n",
       "    <tr>\n",
       "      <th>0</th>\n",
       "      <td>Bethwell Ogot</td>\n",
       "      <td>NaN</td>\n",
       "      <td>Kenya Historical Review</td>\n",
       "      <td>Contributor</td>\n",
       "      <td>1974</td>\n",
       "      <td>Vol 2, No. 2</td>\n",
       "      <td>NaN</td>\n",
       "      <td>NaN</td>\n",
       "    </tr>\n",
       "    <tr>\n",
       "      <th>1</th>\n",
       "      <td>Bethwell Ogot</td>\n",
       "      <td>NaN</td>\n",
       "      <td>Kenya Historical Review</td>\n",
       "      <td>Contributor</td>\n",
       "      <td>1976</td>\n",
       "      <td>Vol 4, No. 1</td>\n",
       "      <td>NaN</td>\n",
       "      <td>NaN</td>\n",
       "    </tr>\n",
       "    <tr>\n",
       "      <th>2</th>\n",
       "      <td>Bethwell Ogot</td>\n",
       "      <td>NaN</td>\n",
       "      <td>Transition</td>\n",
       "      <td>Contributor</td>\n",
       "      <td>September 1963</td>\n",
       "      <td>Vol 4, No. 10</td>\n",
       "      <td>NaN</td>\n",
       "      <td>NaN</td>\n",
       "    </tr>\n",
       "    <tr>\n",
       "      <th>3</th>\n",
       "      <td>Bethwell Ogot</td>\n",
       "      <td>NaN</td>\n",
       "      <td>East Africa Journal</td>\n",
       "      <td>Editor</td>\n",
       "      <td>NaN</td>\n",
       "      <td>NaN</td>\n",
       "      <td>NaN</td>\n",
       "      <td>NaN</td>\n",
       "    </tr>\n",
       "    <tr>\n",
       "      <th>4</th>\n",
       "      <td>Shaaban Robert</td>\n",
       "      <td>NaN</td>\n",
       "      <td>Mambo Leo</td>\n",
       "      <td>Writer</td>\n",
       "      <td>NaN</td>\n",
       "      <td>NaN</td>\n",
       "      <td>NaN</td>\n",
       "      <td>NaN</td>\n",
       "    </tr>\n",
       "  </tbody>\n",
       "</table>\n",
       "</div>"
      ],
      "text/plain": [
       "           Person Brief note              Publication  \\\n",
       "0   Bethwell Ogot        NaN  Kenya Historical Review   \n",
       "1   Bethwell Ogot        NaN  Kenya Historical Review   \n",
       "2   Bethwell Ogot        NaN               Transition   \n",
       "3   Bethwell Ogot        NaN      East Africa Journal   \n",
       "4  Shaaban Robert        NaN                Mambo Leo   \n",
       "\n",
       "  Type of relationship (writer, reader, etc) Date written for publication  \\\n",
       "0                                Contributor                         1974   \n",
       "1                                Contributor                         1976   \n",
       "2                                Contributor               September 1963   \n",
       "3                                     Editor                          NaN   \n",
       "4                                     Writer                          NaN   \n",
       "\n",
       "  Volume/Issue/Number Date established  Date closed down  \n",
       "0        Vol 2, No. 2              NaN               NaN  \n",
       "1        Vol 4, No. 1              NaN               NaN  \n",
       "2       Vol 4, No. 10              NaN               NaN  \n",
       "3                 NaN              NaN               NaN  \n",
       "4                 NaN              NaN               NaN  "
      ]
     },
     "execution_count": 67,
     "metadata": {},
     "output_type": "execute_result"
    }
   ],
   "source": [
    "df_pp.head()"
   ]
  },
  {
   "cell_type": "code",
   "execution_count": 68,
   "id": "cfb0dba6-4b57-476c-a1f0-f3001dd2087d",
   "metadata": {},
   "outputs": [
    {
     "name": "stdout",
     "output_type": "stream",
     "text": [
      "1974 1974\n",
      "1974\n",
      "1976 1976\n",
      "1976\n",
      "September 1963 1963\n",
      "1963\n",
      "March 1963 1963\n",
      "1963\n",
      "1960s 960s\n"
     ]
    },
    {
     "ename": "ValueError",
     "evalue": "invalid literal for int() with base 10: '960s'",
     "output_type": "error",
     "traceback": [
      "\u001b[0;31m---------------------------------------------------------------------------\u001b[0m",
      "\u001b[0;31mValueError\u001b[0m                                Traceback (most recent call last)",
      "Cell \u001b[0;32mIn[68], line 1\u001b[0m\n\u001b[0;32m----> 1\u001b[0m df_pp[\u001b[38;5;124m\"\u001b[39m\u001b[38;5;124mYear\u001b[39m\u001b[38;5;124m\"\u001b[39m] \u001b[38;5;241m=\u001b[39m \u001b[43mdf_pp\u001b[49m\u001b[43m[\u001b[49m\u001b[38;5;124;43m\"\u001b[39;49m\u001b[38;5;124;43mDate written for publication\u001b[39;49m\u001b[38;5;124;43m\"\u001b[39;49m\u001b[43m]\u001b[49m\u001b[38;5;241;43m.\u001b[39;49m\u001b[43mapply\u001b[49m\u001b[43m(\u001b[49m\u001b[43mcompute_year\u001b[49m\u001b[43m)\u001b[49m\n",
      "File \u001b[0;32m~/anaconda3/envs/africaNet/lib/python3.10/site-packages/pandas/core/series.py:4771\u001b[0m, in \u001b[0;36mSeries.apply\u001b[0;34m(self, func, convert_dtype, args, **kwargs)\u001b[0m\n\u001b[1;32m   4661\u001b[0m \u001b[38;5;28;01mdef\u001b[39;00m \u001b[38;5;21mapply\u001b[39m(\n\u001b[1;32m   4662\u001b[0m     \u001b[38;5;28mself\u001b[39m,\n\u001b[1;32m   4663\u001b[0m     func: AggFuncType,\n\u001b[0;32m   (...)\u001b[0m\n\u001b[1;32m   4666\u001b[0m     \u001b[38;5;241m*\u001b[39m\u001b[38;5;241m*\u001b[39mkwargs,\n\u001b[1;32m   4667\u001b[0m ) \u001b[38;5;241m-\u001b[39m\u001b[38;5;241m>\u001b[39m DataFrame \u001b[38;5;241m|\u001b[39m Series:\n\u001b[1;32m   4668\u001b[0m \u001b[38;5;250m    \u001b[39m\u001b[38;5;124;03m\"\"\"\u001b[39;00m\n\u001b[1;32m   4669\u001b[0m \u001b[38;5;124;03m    Invoke function on values of Series.\u001b[39;00m\n\u001b[1;32m   4670\u001b[0m \n\u001b[0;32m   (...)\u001b[0m\n\u001b[1;32m   4769\u001b[0m \u001b[38;5;124;03m    dtype: float64\u001b[39;00m\n\u001b[1;32m   4770\u001b[0m \u001b[38;5;124;03m    \"\"\"\u001b[39;00m\n\u001b[0;32m-> 4771\u001b[0m     \u001b[38;5;28;01mreturn\u001b[39;00m \u001b[43mSeriesApply\u001b[49m\u001b[43m(\u001b[49m\u001b[38;5;28;43mself\u001b[39;49m\u001b[43m,\u001b[49m\u001b[43m \u001b[49m\u001b[43mfunc\u001b[49m\u001b[43m,\u001b[49m\u001b[43m \u001b[49m\u001b[43mconvert_dtype\u001b[49m\u001b[43m,\u001b[49m\u001b[43m \u001b[49m\u001b[43margs\u001b[49m\u001b[43m,\u001b[49m\u001b[43m \u001b[49m\u001b[43mkwargs\u001b[49m\u001b[43m)\u001b[49m\u001b[38;5;241;43m.\u001b[39;49m\u001b[43mapply\u001b[49m\u001b[43m(\u001b[49m\u001b[43m)\u001b[49m\n",
      "File \u001b[0;32m~/anaconda3/envs/africaNet/lib/python3.10/site-packages/pandas/core/apply.py:1123\u001b[0m, in \u001b[0;36mSeriesApply.apply\u001b[0;34m(self)\u001b[0m\n\u001b[1;32m   1120\u001b[0m     \u001b[38;5;28;01mreturn\u001b[39;00m \u001b[38;5;28mself\u001b[39m\u001b[38;5;241m.\u001b[39mapply_str()\n\u001b[1;32m   1122\u001b[0m \u001b[38;5;66;03m# self.f is Callable\u001b[39;00m\n\u001b[0;32m-> 1123\u001b[0m \u001b[38;5;28;01mreturn\u001b[39;00m \u001b[38;5;28;43mself\u001b[39;49m\u001b[38;5;241;43m.\u001b[39;49m\u001b[43mapply_standard\u001b[49m\u001b[43m(\u001b[49m\u001b[43m)\u001b[49m\n",
      "File \u001b[0;32m~/anaconda3/envs/africaNet/lib/python3.10/site-packages/pandas/core/apply.py:1174\u001b[0m, in \u001b[0;36mSeriesApply.apply_standard\u001b[0;34m(self)\u001b[0m\n\u001b[1;32m   1172\u001b[0m     \u001b[38;5;28;01melse\u001b[39;00m:\n\u001b[1;32m   1173\u001b[0m         values \u001b[38;5;241m=\u001b[39m obj\u001b[38;5;241m.\u001b[39mastype(\u001b[38;5;28mobject\u001b[39m)\u001b[38;5;241m.\u001b[39m_values\n\u001b[0;32m-> 1174\u001b[0m         mapped \u001b[38;5;241m=\u001b[39m \u001b[43mlib\u001b[49m\u001b[38;5;241;43m.\u001b[39;49m\u001b[43mmap_infer\u001b[49m\u001b[43m(\u001b[49m\n\u001b[1;32m   1175\u001b[0m \u001b[43m            \u001b[49m\u001b[43mvalues\u001b[49m\u001b[43m,\u001b[49m\n\u001b[1;32m   1176\u001b[0m \u001b[43m            \u001b[49m\u001b[43mf\u001b[49m\u001b[43m,\u001b[49m\n\u001b[1;32m   1177\u001b[0m \u001b[43m            \u001b[49m\u001b[43mconvert\u001b[49m\u001b[38;5;241;43m=\u001b[39;49m\u001b[38;5;28;43mself\u001b[39;49m\u001b[38;5;241;43m.\u001b[39;49m\u001b[43mconvert_dtype\u001b[49m\u001b[43m,\u001b[49m\n\u001b[1;32m   1178\u001b[0m \u001b[43m        \u001b[49m\u001b[43m)\u001b[49m\n\u001b[1;32m   1180\u001b[0m \u001b[38;5;28;01mif\u001b[39;00m \u001b[38;5;28mlen\u001b[39m(mapped) \u001b[38;5;129;01mand\u001b[39;00m \u001b[38;5;28misinstance\u001b[39m(mapped[\u001b[38;5;241m0\u001b[39m], ABCSeries):\n\u001b[1;32m   1181\u001b[0m     \u001b[38;5;66;03m# GH#43986 Need to do list(mapped) in order to get treated as nested\u001b[39;00m\n\u001b[1;32m   1182\u001b[0m     \u001b[38;5;66;03m#  See also GH#25959 regarding EA support\u001b[39;00m\n\u001b[1;32m   1183\u001b[0m     \u001b[38;5;28;01mreturn\u001b[39;00m obj\u001b[38;5;241m.\u001b[39m_constructor_expanddim(\u001b[38;5;28mlist\u001b[39m(mapped), index\u001b[38;5;241m=\u001b[39mobj\u001b[38;5;241m.\u001b[39mindex)\n",
      "File \u001b[0;32m~/anaconda3/envs/africaNet/lib/python3.10/site-packages/pandas/_libs/lib.pyx:2924\u001b[0m, in \u001b[0;36mpandas._libs.lib.map_infer\u001b[0;34m()\u001b[0m\n",
      "Cell \u001b[0;32mIn[62], line 6\u001b[0m, in \u001b[0;36mcompute_year\u001b[0;34m(time_value)\u001b[0m\n\u001b[1;32m      4\u001b[0m time_value \u001b[38;5;241m=\u001b[39m \u001b[38;5;28mstr\u001b[39m(time_value)\n\u001b[1;32m      5\u001b[0m \u001b[38;5;28mprint\u001b[39m(time_value, time_value[\u001b[38;5;241m-\u001b[39m\u001b[38;5;241m4\u001b[39m:])\n\u001b[0;32m----> 6\u001b[0m year \u001b[38;5;241m=\u001b[39m \u001b[38;5;28;43mint\u001b[39;49m\u001b[43m(\u001b[49m\u001b[43mtime_value\u001b[49m\u001b[43m[\u001b[49m\u001b[38;5;241;43m-\u001b[39;49m\u001b[38;5;241;43m4\u001b[39;49m\u001b[43m:\u001b[49m\u001b[43m]\u001b[49m\u001b[43m)\u001b[49m\n\u001b[1;32m      7\u001b[0m \u001b[38;5;28mprint\u001b[39m(year)\n\u001b[1;32m      8\u001b[0m \u001b[38;5;28;01mreturn\u001b[39;00m year\n",
      "\u001b[0;31mValueError\u001b[0m: invalid literal for int() with base 10: '960s'"
     ]
    }
   ],
   "source": [
    "df_pp[\"Year\"] = df_pp[\"Date written for publication\"].apply(compute_year)"
   ]
  },
  {
   "cell_type": "code",
   "execution_count": null,
   "id": "3a4ae8bd-afe3-47a3-a44e-c083f65fcbfb",
   "metadata": {},
   "outputs": [],
   "source": []
  },
  {
   "cell_type": "code",
   "execution_count": 60,
   "id": "c1938953-8c82-4041-9fc3-41b90f2fe331",
   "metadata": {},
   "outputs": [
    {
     "data": {
      "text/html": [
       "<div>\n",
       "<style scoped>\n",
       "    .dataframe tbody tr th:only-of-type {\n",
       "        vertical-align: middle;\n",
       "    }\n",
       "\n",
       "    .dataframe tbody tr th {\n",
       "        vertical-align: top;\n",
       "    }\n",
       "\n",
       "    .dataframe thead th {\n",
       "        text-align: right;\n",
       "    }\n",
       "</style>\n",
       "<table border=\"1\" class=\"dataframe\">\n",
       "  <thead>\n",
       "    <tr style=\"text-align: right;\">\n",
       "      <th></th>\n",
       "      <th>Person</th>\n",
       "      <th>Brief note</th>\n",
       "      <th>Publication</th>\n",
       "      <th>Type of relationship (writer, reader, etc)</th>\n",
       "      <th>Date written for publication</th>\n",
       "      <th>Volume/Issue/Number</th>\n",
       "      <th>Date established</th>\n",
       "      <th>Date closed down</th>\n",
       "    </tr>\n",
       "  </thead>\n",
       "  <tbody>\n",
       "    <tr>\n",
       "      <th>0</th>\n",
       "      <td>Bethwell Ogot</td>\n",
       "      <td>NaN</td>\n",
       "      <td>Kenya Historical Review</td>\n",
       "      <td>Contributor</td>\n",
       "      <td>1974</td>\n",
       "      <td>Vol 2, No. 2</td>\n",
       "      <td>NaN</td>\n",
       "      <td>NaN</td>\n",
       "    </tr>\n",
       "    <tr>\n",
       "      <th>1</th>\n",
       "      <td>Bethwell Ogot</td>\n",
       "      <td>NaN</td>\n",
       "      <td>Kenya Historical Review</td>\n",
       "      <td>Contributor</td>\n",
       "      <td>1976</td>\n",
       "      <td>Vol 4, No. 1</td>\n",
       "      <td>NaN</td>\n",
       "      <td>NaN</td>\n",
       "    </tr>\n",
       "    <tr>\n",
       "      <th>2</th>\n",
       "      <td>Bethwell Ogot</td>\n",
       "      <td>NaN</td>\n",
       "      <td>Transition</td>\n",
       "      <td>Contributor</td>\n",
       "      <td>September 1963</td>\n",
       "      <td>Vol 4, No. 10</td>\n",
       "      <td>NaN</td>\n",
       "      <td>NaN</td>\n",
       "    </tr>\n",
       "    <tr>\n",
       "      <th>3</th>\n",
       "      <td>Bethwell Ogot</td>\n",
       "      <td>NaN</td>\n",
       "      <td>East Africa Journal</td>\n",
       "      <td>Editor</td>\n",
       "      <td>NaN</td>\n",
       "      <td>NaN</td>\n",
       "      <td>NaN</td>\n",
       "      <td>NaN</td>\n",
       "    </tr>\n",
       "    <tr>\n",
       "      <th>4</th>\n",
       "      <td>Shaaban Robert</td>\n",
       "      <td>NaN</td>\n",
       "      <td>Mambo Leo</td>\n",
       "      <td>Writer</td>\n",
       "      <td>NaN</td>\n",
       "      <td>NaN</td>\n",
       "      <td>NaN</td>\n",
       "      <td>NaN</td>\n",
       "    </tr>\n",
       "  </tbody>\n",
       "</table>\n",
       "</div>"
      ],
      "text/plain": [
       "           Person Brief note              Publication  \\\n",
       "0   Bethwell Ogot        NaN  Kenya Historical Review   \n",
       "1   Bethwell Ogot        NaN  Kenya Historical Review   \n",
       "2   Bethwell Ogot        NaN               Transition   \n",
       "3   Bethwell Ogot        NaN      East Africa Journal   \n",
       "4  Shaaban Robert        NaN                Mambo Leo   \n",
       "\n",
       "  Type of relationship (writer, reader, etc) Date written for publication  \\\n",
       "0                                Contributor                         1974   \n",
       "1                                Contributor                         1976   \n",
       "2                                Contributor               September 1963   \n",
       "3                                     Editor                          NaN   \n",
       "4                                     Writer                          NaN   \n",
       "\n",
       "  Volume/Issue/Number Date established  Date closed down  \n",
       "0        Vol 2, No. 2              NaN               NaN  \n",
       "1        Vol 4, No. 1              NaN               NaN  \n",
       "2       Vol 4, No. 10              NaN               NaN  \n",
       "3                 NaN              NaN               NaN  \n",
       "4                 NaN              NaN               NaN  "
      ]
     },
     "execution_count": 60,
     "metadata": {},
     "output_type": "execute_result"
    }
   ],
   "source": [
    "df_pp.head()"
   ]
  },
  {
   "cell_type": "code",
   "execution_count": null,
   "id": "3cc51e7f-68a8-4fc8-8e20-8317e79ca4e3",
   "metadata": {},
   "outputs": [],
   "source": []
  }
 ],
 "metadata": {
  "kernelspec": {
   "display_name": "Python 3 (ipykernel)",
   "language": "python",
   "name": "python3"
  },
  "language_info": {
   "codemirror_mode": {
    "name": "ipython",
    "version": 3
   },
   "file_extension": ".py",
   "mimetype": "text/x-python",
   "name": "python",
   "nbconvert_exporter": "python",
   "pygments_lexer": "ipython3",
   "version": "3.10.9"
  }
 },
 "nbformat": 4,
 "nbformat_minor": 5
}
