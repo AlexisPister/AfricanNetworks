{
 "cells": [
  {
   "cell_type": "code",
   "execution_count": null,
   "id": "478df34a-9127-4db6-b737-8455aa49cb27",
   "metadata": {},
   "outputs": [],
   "source": [
    "import json\n",
    "\n",
    "import pandas as pd\n",
    "import networkx as nx\n",
    "import numpy as np"
   ]
  },
  {
   "cell_type": "code",
   "execution_count": null,
   "id": "7fd0278a-babb-4242-b9fc-0ae04f3b65a4",
   "metadata": {},
   "outputs": [],
   "source": [
    "INST = \"Institutions attended / affiliated with / worked at\"\n",
    "PUB = \"Publications written for\""
   ]
  },
  {
   "cell_type": "code",
   "execution_count": null,
   "id": "39e7ddf8-bd61-46ea-9408-0fa3e983ba92",
   "metadata": {},
   "outputs": [],
   "source": [
    "folder = \"data/february/\""
   ]
  },
  {
   "cell_type": "code",
   "execution_count": null,
   "id": "066ad137-d87e-447c-8406-3cc9f3480c74",
   "metadata": {},
   "outputs": [],
   "source": [
    "fn = \"Data Visualisation People and Places.csv\""
   ]
  },
  {
   "cell_type": "code",
   "execution_count": null,
   "id": "d15b9f81-378b-4469-964b-e4a37663a8dc",
   "metadata": {},
   "outputs": [],
   "source": [
    "path = folder + fn"
   ]
  },
  {
   "cell_type": "code",
   "execution_count": null,
   "id": "d15fb4d7-0dd8-4133-8509-1daf4213b85a",
   "metadata": {},
   "outputs": [
    {
     "ename": "FileNotFoundError",
     "evalue": "[Errno 2] No such file or directory: 'data/march-19Data Visualisation People and Places.csv'",
     "output_type": "error",
     "traceback": [
      "\u001b[0;31m---------------------------------------------------------------------------\u001b[0m",
      "\u001b[0;31mFileNotFoundError\u001b[0m                         Traceback (most recent call last)",
      "Cell \u001b[0;32mIn[6], line 1\u001b[0m\n\u001b[0;32m----> 1\u001b[0m df \u001b[38;5;241m=\u001b[39m \u001b[43mpd\u001b[49m\u001b[38;5;241;43m.\u001b[39;49m\u001b[43mread_csv\u001b[49m\u001b[43m(\u001b[49m\u001b[43mpath\u001b[49m\u001b[43m,\u001b[49m\u001b[43m \u001b[49m\u001b[43mheader\u001b[49m\u001b[38;5;241;43m=\u001b[39;49m\u001b[38;5;241;43m1\u001b[39;49m\u001b[43m)\u001b[49m\n",
      "File \u001b[0;32m~/anaconda3/envs/africaNet/lib/python3.10/site-packages/pandas/util/_decorators.py:211\u001b[0m, in \u001b[0;36mdeprecate_kwarg.<locals>._deprecate_kwarg.<locals>.wrapper\u001b[0;34m(*args, **kwargs)\u001b[0m\n\u001b[1;32m    209\u001b[0m     \u001b[38;5;28;01melse\u001b[39;00m:\n\u001b[1;32m    210\u001b[0m         kwargs[new_arg_name] \u001b[38;5;241m=\u001b[39m new_arg_value\n\u001b[0;32m--> 211\u001b[0m \u001b[38;5;28;01mreturn\u001b[39;00m \u001b[43mfunc\u001b[49m\u001b[43m(\u001b[49m\u001b[38;5;241;43m*\u001b[39;49m\u001b[43margs\u001b[49m\u001b[43m,\u001b[49m\u001b[43m \u001b[49m\u001b[38;5;241;43m*\u001b[39;49m\u001b[38;5;241;43m*\u001b[39;49m\u001b[43mkwargs\u001b[49m\u001b[43m)\u001b[49m\n",
      "File \u001b[0;32m~/anaconda3/envs/africaNet/lib/python3.10/site-packages/pandas/util/_decorators.py:331\u001b[0m, in \u001b[0;36mdeprecate_nonkeyword_arguments.<locals>.decorate.<locals>.wrapper\u001b[0;34m(*args, **kwargs)\u001b[0m\n\u001b[1;32m    325\u001b[0m \u001b[38;5;28;01mif\u001b[39;00m \u001b[38;5;28mlen\u001b[39m(args) \u001b[38;5;241m>\u001b[39m num_allow_args:\n\u001b[1;32m    326\u001b[0m     warnings\u001b[38;5;241m.\u001b[39mwarn(\n\u001b[1;32m    327\u001b[0m         msg\u001b[38;5;241m.\u001b[39mformat(arguments\u001b[38;5;241m=\u001b[39m_format_argument_list(allow_args)),\n\u001b[1;32m    328\u001b[0m         \u001b[38;5;167;01mFutureWarning\u001b[39;00m,\n\u001b[1;32m    329\u001b[0m         stacklevel\u001b[38;5;241m=\u001b[39mfind_stack_level(),\n\u001b[1;32m    330\u001b[0m     )\n\u001b[0;32m--> 331\u001b[0m \u001b[38;5;28;01mreturn\u001b[39;00m \u001b[43mfunc\u001b[49m\u001b[43m(\u001b[49m\u001b[38;5;241;43m*\u001b[39;49m\u001b[43margs\u001b[49m\u001b[43m,\u001b[49m\u001b[43m \u001b[49m\u001b[38;5;241;43m*\u001b[39;49m\u001b[38;5;241;43m*\u001b[39;49m\u001b[43mkwargs\u001b[49m\u001b[43m)\u001b[49m\n",
      "File \u001b[0;32m~/anaconda3/envs/africaNet/lib/python3.10/site-packages/pandas/io/parsers/readers.py:950\u001b[0m, in \u001b[0;36mread_csv\u001b[0;34m(filepath_or_buffer, sep, delimiter, header, names, index_col, usecols, squeeze, prefix, mangle_dupe_cols, dtype, engine, converters, true_values, false_values, skipinitialspace, skiprows, skipfooter, nrows, na_values, keep_default_na, na_filter, verbose, skip_blank_lines, parse_dates, infer_datetime_format, keep_date_col, date_parser, dayfirst, cache_dates, iterator, chunksize, compression, thousands, decimal, lineterminator, quotechar, quoting, doublequote, escapechar, comment, encoding, encoding_errors, dialect, error_bad_lines, warn_bad_lines, on_bad_lines, delim_whitespace, low_memory, memory_map, float_precision, storage_options)\u001b[0m\n\u001b[1;32m    935\u001b[0m kwds_defaults \u001b[38;5;241m=\u001b[39m _refine_defaults_read(\n\u001b[1;32m    936\u001b[0m     dialect,\n\u001b[1;32m    937\u001b[0m     delimiter,\n\u001b[0;32m   (...)\u001b[0m\n\u001b[1;32m    946\u001b[0m     defaults\u001b[38;5;241m=\u001b[39m{\u001b[38;5;124m\"\u001b[39m\u001b[38;5;124mdelimiter\u001b[39m\u001b[38;5;124m\"\u001b[39m: \u001b[38;5;124m\"\u001b[39m\u001b[38;5;124m,\u001b[39m\u001b[38;5;124m\"\u001b[39m},\n\u001b[1;32m    947\u001b[0m )\n\u001b[1;32m    948\u001b[0m kwds\u001b[38;5;241m.\u001b[39mupdate(kwds_defaults)\n\u001b[0;32m--> 950\u001b[0m \u001b[38;5;28;01mreturn\u001b[39;00m \u001b[43m_read\u001b[49m\u001b[43m(\u001b[49m\u001b[43mfilepath_or_buffer\u001b[49m\u001b[43m,\u001b[49m\u001b[43m \u001b[49m\u001b[43mkwds\u001b[49m\u001b[43m)\u001b[49m\n",
      "File \u001b[0;32m~/anaconda3/envs/africaNet/lib/python3.10/site-packages/pandas/io/parsers/readers.py:605\u001b[0m, in \u001b[0;36m_read\u001b[0;34m(filepath_or_buffer, kwds)\u001b[0m\n\u001b[1;32m    602\u001b[0m _validate_names(kwds\u001b[38;5;241m.\u001b[39mget(\u001b[38;5;124m\"\u001b[39m\u001b[38;5;124mnames\u001b[39m\u001b[38;5;124m\"\u001b[39m, \u001b[38;5;28;01mNone\u001b[39;00m))\n\u001b[1;32m    604\u001b[0m \u001b[38;5;66;03m# Create the parser.\u001b[39;00m\n\u001b[0;32m--> 605\u001b[0m parser \u001b[38;5;241m=\u001b[39m \u001b[43mTextFileReader\u001b[49m\u001b[43m(\u001b[49m\u001b[43mfilepath_or_buffer\u001b[49m\u001b[43m,\u001b[49m\u001b[43m \u001b[49m\u001b[38;5;241;43m*\u001b[39;49m\u001b[38;5;241;43m*\u001b[39;49m\u001b[43mkwds\u001b[49m\u001b[43m)\u001b[49m\n\u001b[1;32m    607\u001b[0m \u001b[38;5;28;01mif\u001b[39;00m chunksize \u001b[38;5;129;01mor\u001b[39;00m iterator:\n\u001b[1;32m    608\u001b[0m     \u001b[38;5;28;01mreturn\u001b[39;00m parser\n",
      "File \u001b[0;32m~/anaconda3/envs/africaNet/lib/python3.10/site-packages/pandas/io/parsers/readers.py:1442\u001b[0m, in \u001b[0;36mTextFileReader.__init__\u001b[0;34m(self, f, engine, **kwds)\u001b[0m\n\u001b[1;32m   1439\u001b[0m     \u001b[38;5;28mself\u001b[39m\u001b[38;5;241m.\u001b[39moptions[\u001b[38;5;124m\"\u001b[39m\u001b[38;5;124mhas_index_names\u001b[39m\u001b[38;5;124m\"\u001b[39m] \u001b[38;5;241m=\u001b[39m kwds[\u001b[38;5;124m\"\u001b[39m\u001b[38;5;124mhas_index_names\u001b[39m\u001b[38;5;124m\"\u001b[39m]\n\u001b[1;32m   1441\u001b[0m \u001b[38;5;28mself\u001b[39m\u001b[38;5;241m.\u001b[39mhandles: IOHandles \u001b[38;5;241m|\u001b[39m \u001b[38;5;28;01mNone\u001b[39;00m \u001b[38;5;241m=\u001b[39m \u001b[38;5;28;01mNone\u001b[39;00m\n\u001b[0;32m-> 1442\u001b[0m \u001b[38;5;28mself\u001b[39m\u001b[38;5;241m.\u001b[39m_engine \u001b[38;5;241m=\u001b[39m \u001b[38;5;28;43mself\u001b[39;49m\u001b[38;5;241;43m.\u001b[39;49m\u001b[43m_make_engine\u001b[49m\u001b[43m(\u001b[49m\u001b[43mf\u001b[49m\u001b[43m,\u001b[49m\u001b[43m \u001b[49m\u001b[38;5;28;43mself\u001b[39;49m\u001b[38;5;241;43m.\u001b[39;49m\u001b[43mengine\u001b[49m\u001b[43m)\u001b[49m\n",
      "File \u001b[0;32m~/anaconda3/envs/africaNet/lib/python3.10/site-packages/pandas/io/parsers/readers.py:1735\u001b[0m, in \u001b[0;36mTextFileReader._make_engine\u001b[0;34m(self, f, engine)\u001b[0m\n\u001b[1;32m   1733\u001b[0m     \u001b[38;5;28;01mif\u001b[39;00m \u001b[38;5;124m\"\u001b[39m\u001b[38;5;124mb\u001b[39m\u001b[38;5;124m\"\u001b[39m \u001b[38;5;129;01mnot\u001b[39;00m \u001b[38;5;129;01min\u001b[39;00m mode:\n\u001b[1;32m   1734\u001b[0m         mode \u001b[38;5;241m+\u001b[39m\u001b[38;5;241m=\u001b[39m \u001b[38;5;124m\"\u001b[39m\u001b[38;5;124mb\u001b[39m\u001b[38;5;124m\"\u001b[39m\n\u001b[0;32m-> 1735\u001b[0m \u001b[38;5;28mself\u001b[39m\u001b[38;5;241m.\u001b[39mhandles \u001b[38;5;241m=\u001b[39m \u001b[43mget_handle\u001b[49m\u001b[43m(\u001b[49m\n\u001b[1;32m   1736\u001b[0m \u001b[43m    \u001b[49m\u001b[43mf\u001b[49m\u001b[43m,\u001b[49m\n\u001b[1;32m   1737\u001b[0m \u001b[43m    \u001b[49m\u001b[43mmode\u001b[49m\u001b[43m,\u001b[49m\n\u001b[1;32m   1738\u001b[0m \u001b[43m    \u001b[49m\u001b[43mencoding\u001b[49m\u001b[38;5;241;43m=\u001b[39;49m\u001b[38;5;28;43mself\u001b[39;49m\u001b[38;5;241;43m.\u001b[39;49m\u001b[43moptions\u001b[49m\u001b[38;5;241;43m.\u001b[39;49m\u001b[43mget\u001b[49m\u001b[43m(\u001b[49m\u001b[38;5;124;43m\"\u001b[39;49m\u001b[38;5;124;43mencoding\u001b[39;49m\u001b[38;5;124;43m\"\u001b[39;49m\u001b[43m,\u001b[49m\u001b[43m \u001b[49m\u001b[38;5;28;43;01mNone\u001b[39;49;00m\u001b[43m)\u001b[49m\u001b[43m,\u001b[49m\n\u001b[1;32m   1739\u001b[0m \u001b[43m    \u001b[49m\u001b[43mcompression\u001b[49m\u001b[38;5;241;43m=\u001b[39;49m\u001b[38;5;28;43mself\u001b[39;49m\u001b[38;5;241;43m.\u001b[39;49m\u001b[43moptions\u001b[49m\u001b[38;5;241;43m.\u001b[39;49m\u001b[43mget\u001b[49m\u001b[43m(\u001b[49m\u001b[38;5;124;43m\"\u001b[39;49m\u001b[38;5;124;43mcompression\u001b[39;49m\u001b[38;5;124;43m\"\u001b[39;49m\u001b[43m,\u001b[49m\u001b[43m \u001b[49m\u001b[38;5;28;43;01mNone\u001b[39;49;00m\u001b[43m)\u001b[49m\u001b[43m,\u001b[49m\n\u001b[1;32m   1740\u001b[0m \u001b[43m    \u001b[49m\u001b[43mmemory_map\u001b[49m\u001b[38;5;241;43m=\u001b[39;49m\u001b[38;5;28;43mself\u001b[39;49m\u001b[38;5;241;43m.\u001b[39;49m\u001b[43moptions\u001b[49m\u001b[38;5;241;43m.\u001b[39;49m\u001b[43mget\u001b[49m\u001b[43m(\u001b[49m\u001b[38;5;124;43m\"\u001b[39;49m\u001b[38;5;124;43mmemory_map\u001b[39;49m\u001b[38;5;124;43m\"\u001b[39;49m\u001b[43m,\u001b[49m\u001b[43m \u001b[49m\u001b[38;5;28;43;01mFalse\u001b[39;49;00m\u001b[43m)\u001b[49m\u001b[43m,\u001b[49m\n\u001b[1;32m   1741\u001b[0m \u001b[43m    \u001b[49m\u001b[43mis_text\u001b[49m\u001b[38;5;241;43m=\u001b[39;49m\u001b[43mis_text\u001b[49m\u001b[43m,\u001b[49m\n\u001b[1;32m   1742\u001b[0m \u001b[43m    \u001b[49m\u001b[43merrors\u001b[49m\u001b[38;5;241;43m=\u001b[39;49m\u001b[38;5;28;43mself\u001b[39;49m\u001b[38;5;241;43m.\u001b[39;49m\u001b[43moptions\u001b[49m\u001b[38;5;241;43m.\u001b[39;49m\u001b[43mget\u001b[49m\u001b[43m(\u001b[49m\u001b[38;5;124;43m\"\u001b[39;49m\u001b[38;5;124;43mencoding_errors\u001b[39;49m\u001b[38;5;124;43m\"\u001b[39;49m\u001b[43m,\u001b[49m\u001b[43m \u001b[49m\u001b[38;5;124;43m\"\u001b[39;49m\u001b[38;5;124;43mstrict\u001b[39;49m\u001b[38;5;124;43m\"\u001b[39;49m\u001b[43m)\u001b[49m\u001b[43m,\u001b[49m\n\u001b[1;32m   1743\u001b[0m \u001b[43m    \u001b[49m\u001b[43mstorage_options\u001b[49m\u001b[38;5;241;43m=\u001b[39;49m\u001b[38;5;28;43mself\u001b[39;49m\u001b[38;5;241;43m.\u001b[39;49m\u001b[43moptions\u001b[49m\u001b[38;5;241;43m.\u001b[39;49m\u001b[43mget\u001b[49m\u001b[43m(\u001b[49m\u001b[38;5;124;43m\"\u001b[39;49m\u001b[38;5;124;43mstorage_options\u001b[39;49m\u001b[38;5;124;43m\"\u001b[39;49m\u001b[43m,\u001b[49m\u001b[43m \u001b[49m\u001b[38;5;28;43;01mNone\u001b[39;49;00m\u001b[43m)\u001b[49m\u001b[43m,\u001b[49m\n\u001b[1;32m   1744\u001b[0m \u001b[43m\u001b[49m\u001b[43m)\u001b[49m\n\u001b[1;32m   1745\u001b[0m \u001b[38;5;28;01massert\u001b[39;00m \u001b[38;5;28mself\u001b[39m\u001b[38;5;241m.\u001b[39mhandles \u001b[38;5;129;01mis\u001b[39;00m \u001b[38;5;129;01mnot\u001b[39;00m \u001b[38;5;28;01mNone\u001b[39;00m\n\u001b[1;32m   1746\u001b[0m f \u001b[38;5;241m=\u001b[39m \u001b[38;5;28mself\u001b[39m\u001b[38;5;241m.\u001b[39mhandles\u001b[38;5;241m.\u001b[39mhandle\n",
      "File \u001b[0;32m~/anaconda3/envs/africaNet/lib/python3.10/site-packages/pandas/io/common.py:856\u001b[0m, in \u001b[0;36mget_handle\u001b[0;34m(path_or_buf, mode, encoding, compression, memory_map, is_text, errors, storage_options)\u001b[0m\n\u001b[1;32m    851\u001b[0m \u001b[38;5;28;01melif\u001b[39;00m \u001b[38;5;28misinstance\u001b[39m(handle, \u001b[38;5;28mstr\u001b[39m):\n\u001b[1;32m    852\u001b[0m     \u001b[38;5;66;03m# Check whether the filename is to be opened in binary mode.\u001b[39;00m\n\u001b[1;32m    853\u001b[0m     \u001b[38;5;66;03m# Binary mode does not support 'encoding' and 'newline'.\u001b[39;00m\n\u001b[1;32m    854\u001b[0m     \u001b[38;5;28;01mif\u001b[39;00m ioargs\u001b[38;5;241m.\u001b[39mencoding \u001b[38;5;129;01mand\u001b[39;00m \u001b[38;5;124m\"\u001b[39m\u001b[38;5;124mb\u001b[39m\u001b[38;5;124m\"\u001b[39m \u001b[38;5;129;01mnot\u001b[39;00m \u001b[38;5;129;01min\u001b[39;00m ioargs\u001b[38;5;241m.\u001b[39mmode:\n\u001b[1;32m    855\u001b[0m         \u001b[38;5;66;03m# Encoding\u001b[39;00m\n\u001b[0;32m--> 856\u001b[0m         handle \u001b[38;5;241m=\u001b[39m \u001b[38;5;28;43mopen\u001b[39;49m\u001b[43m(\u001b[49m\n\u001b[1;32m    857\u001b[0m \u001b[43m            \u001b[49m\u001b[43mhandle\u001b[49m\u001b[43m,\u001b[49m\n\u001b[1;32m    858\u001b[0m \u001b[43m            \u001b[49m\u001b[43mioargs\u001b[49m\u001b[38;5;241;43m.\u001b[39;49m\u001b[43mmode\u001b[49m\u001b[43m,\u001b[49m\n\u001b[1;32m    859\u001b[0m \u001b[43m            \u001b[49m\u001b[43mencoding\u001b[49m\u001b[38;5;241;43m=\u001b[39;49m\u001b[43mioargs\u001b[49m\u001b[38;5;241;43m.\u001b[39;49m\u001b[43mencoding\u001b[49m\u001b[43m,\u001b[49m\n\u001b[1;32m    860\u001b[0m \u001b[43m            \u001b[49m\u001b[43merrors\u001b[49m\u001b[38;5;241;43m=\u001b[39;49m\u001b[43merrors\u001b[49m\u001b[43m,\u001b[49m\n\u001b[1;32m    861\u001b[0m \u001b[43m            \u001b[49m\u001b[43mnewline\u001b[49m\u001b[38;5;241;43m=\u001b[39;49m\u001b[38;5;124;43m\"\u001b[39;49m\u001b[38;5;124;43m\"\u001b[39;49m\u001b[43m,\u001b[49m\n\u001b[1;32m    862\u001b[0m \u001b[43m        \u001b[49m\u001b[43m)\u001b[49m\n\u001b[1;32m    863\u001b[0m     \u001b[38;5;28;01melse\u001b[39;00m:\n\u001b[1;32m    864\u001b[0m         \u001b[38;5;66;03m# Binary mode\u001b[39;00m\n\u001b[1;32m    865\u001b[0m         handle \u001b[38;5;241m=\u001b[39m \u001b[38;5;28mopen\u001b[39m(handle, ioargs\u001b[38;5;241m.\u001b[39mmode)\n",
      "\u001b[0;31mFileNotFoundError\u001b[0m: [Errno 2] No such file or directory: 'data/march-19Data Visualisation People and Places.csv'"
     ]
    }
   ],
   "source": [
    "df = pd.read_csv(path, header=1)"
   ]
  },
  {
   "cell_type": "code",
   "execution_count": null,
   "id": "5e6eaa3c-a3cf-485b-9a24-f8280505c48e",
   "metadata": {},
   "outputs": [],
   "source": [
    "df"
   ]
  },
  {
   "cell_type": "code",
   "execution_count": 76,
   "id": "11a3e37d-c627-4e01-98bb-1b90ed0040f8",
   "metadata": {},
   "outputs": [],
   "source": [
    "df_inst = df.dropna(subset=[INST])\n",
    "df_pub = df.dropna(subset=[PUB])"
   ]
  },
  {
   "cell_type": "code",
   "execution_count": null,
   "id": "0cd82319-f054-4246-b515-5c78920a9e9b",
   "metadata": {},
   "outputs": [],
   "source": []
  },
  {
   "cell_type": "code",
   "execution_count": 77,
   "id": "fc84697e-ca48-4947-846d-2776ff467519",
   "metadata": {},
   "outputs": [],
   "source": [
    "G_inst = nx.Graph()\n",
    "\n",
    "# for i, col in df_inst.iterrows():\n",
    "for i, col in df_pub.iterrows():\n",
    "    # print(col.Person)\n",
    "    # print(col[PUB])\n",
    "    # insts = col[INST]\n",
    "    person = col.Person\n",
    "    pubs = col[PUB].split(\",\")\n",
    "    \n",
    "    G_inst.add_node(person, pubs=pubs)\n",
    "    \n",
    "    for node, pubs2 in G_inst.nodes(data=\"pubs\"):\n",
    "        # print(node, pubs)\n",
    "        intersection = np.intersect1d(pubs, pubs2)\n",
    "        if len(intersection) > 0:\n",
    "            G_inst.add_edge(person, node, weight=len(intersection))\n",
    "    \n",
    "    "
   ]
  },
  {
   "cell_type": "code",
   "execution_count": 79,
   "id": "f3c28daa-c4f0-4248-a7bd-5ee35460a2ee",
   "metadata": {},
   "outputs": [],
   "source": [
    "G_inst = nx.Graph()\n",
    "\n",
    "# for i, col in df_inst.iterrows():\n",
    "for i, col in df_inst.iterrows():\n",
    "    person = col.Person\n",
    "    pubs = col[INST].split(\",\")\n",
    "    \n",
    "    G_inst.add_node(person, pubs=pubs)\n",
    "    \n",
    "    for node, pubs2 in G_inst.nodes(data=\"pubs\"):\n",
    "        # print(node, pubs)\n",
    "        intersection = np.intersect1d(pubs, pubs2)\n",
    "        if len(intersection) > 0:\n",
    "            G_inst.add_edge(person, node, weight=len(intersection))"
   ]
  },
  {
   "cell_type": "code",
   "execution_count": 88,
   "id": "a34f7042-d833-403d-a3bd-1e52e0bfca69",
   "metadata": {},
   "outputs": [
    {
     "data": {
      "text/plain": [
       "NodeDataView({'Sam Ntiro ': {'pubs': ['High commissioner in London in early 60s']}, 'Bethwell Ogot': {'pubs': ['Makerere', ' University of Nairobi']}, 'Rebecca Njau': {'pubs': ['Makerere', ' Paa ya Paa Gallery']}, 'Elvania Namukwaya Zirimu': {'pubs': ['Makerere', ' Uganda National Theatre']}, 'Micere Mugo': {'pubs': ['Makerere', ' University of Nairobi']}, 'Grace Ogot': {'pubs': ['Mengo Nursing Training College (Uganda)']}, 'Rose Mbowa': {'pubs': ['Makerere University', ' University of Leeds', ' Uganda National Theatre']}, 'Noah Sempira': {'pubs': ['EALB']}, 'Reuben Olembo': {'pubs': ['Makerere', ' Mboya airlifts']}, 'Wilbert Chagula (W. K. Chagula)': {'pubs': ['Makerere', ' UDSM', ' later UN']}, 'Sayed Abidi (S. A. H. Abidi)': {'pubs': ['Makerere']}, 'Boloki Chango Machyo': {'pubs': ['Makerere']}, 'Taban Lo Liyon': {'pubs': ['Univeristy of Nairobi']}, 'Kirunda Kivejinja': {'pubs': ['Univeristy of Delhi']}, \"Hilary Ng'weno\": {'pubs': ['Nation Media Group; Mboya airlifts']}})"
      ]
     },
     "execution_count": 88,
     "metadata": {},
     "output_type": "execute_result"
    }
   ],
   "source": [
    "G_inst.nodes(True)"
   ]
  },
  {
   "cell_type": "code",
   "execution_count": 90,
   "id": "faeb2481-e073-4444-a256-376d8174aab8",
   "metadata": {},
   "outputs": [
    {
     "data": {
      "text/plain": [
       "EdgeDataView([('Sam Ntiro ', 'Sam Ntiro ', {'weight': 1}), ('Bethwell Ogot', 'Bethwell Ogot', {'weight': 2}), ('Bethwell Ogot', 'Rebecca Njau', {'weight': 1}), ('Bethwell Ogot', 'Elvania Namukwaya Zirimu', {'weight': 1}), ('Bethwell Ogot', 'Micere Mugo', {'weight': 2}), ('Bethwell Ogot', 'Reuben Olembo', {'weight': 1}), ('Bethwell Ogot', 'Wilbert Chagula (W. K. Chagula)', {'weight': 1}), ('Bethwell Ogot', 'Sayed Abidi (S. A. H. Abidi)', {'weight': 1}), ('Bethwell Ogot', 'Boloki Chango Machyo', {'weight': 1}), ('Rebecca Njau', 'Rebecca Njau', {'weight': 2}), ('Rebecca Njau', 'Elvania Namukwaya Zirimu', {'weight': 1}), ('Rebecca Njau', 'Micere Mugo', {'weight': 1}), ('Rebecca Njau', 'Reuben Olembo', {'weight': 1}), ('Rebecca Njau', 'Wilbert Chagula (W. K. Chagula)', {'weight': 1}), ('Rebecca Njau', 'Sayed Abidi (S. A. H. Abidi)', {'weight': 1}), ('Rebecca Njau', 'Boloki Chango Machyo', {'weight': 1}), ('Elvania Namukwaya Zirimu', 'Elvania Namukwaya Zirimu', {'weight': 2}), ('Elvania Namukwaya Zirimu', 'Micere Mugo', {'weight': 1}), ('Elvania Namukwaya Zirimu', 'Rose Mbowa', {'weight': 1}), ('Elvania Namukwaya Zirimu', 'Reuben Olembo', {'weight': 1}), ('Elvania Namukwaya Zirimu', 'Wilbert Chagula (W. K. Chagula)', {'weight': 1}), ('Elvania Namukwaya Zirimu', 'Sayed Abidi (S. A. H. Abidi)', {'weight': 1}), ('Elvania Namukwaya Zirimu', 'Boloki Chango Machyo', {'weight': 1}), ('Micere Mugo', 'Micere Mugo', {'weight': 2}), ('Micere Mugo', 'Reuben Olembo', {'weight': 1}), ('Micere Mugo', 'Wilbert Chagula (W. K. Chagula)', {'weight': 1}), ('Micere Mugo', 'Sayed Abidi (S. A. H. Abidi)', {'weight': 1}), ('Micere Mugo', 'Boloki Chango Machyo', {'weight': 1}), ('Grace Ogot', 'Grace Ogot', {'weight': 1}), ('Rose Mbowa', 'Rose Mbowa', {'weight': 3}), ('Noah Sempira', 'Noah Sempira', {'weight': 1}), ('Reuben Olembo', 'Reuben Olembo', {'weight': 2}), ('Reuben Olembo', 'Wilbert Chagula (W. K. Chagula)', {'weight': 1}), ('Reuben Olembo', 'Sayed Abidi (S. A. H. Abidi)', {'weight': 1}), ('Reuben Olembo', 'Boloki Chango Machyo', {'weight': 1}), ('Wilbert Chagula (W. K. Chagula)', 'Wilbert Chagula (W. K. Chagula)', {'weight': 3}), ('Wilbert Chagula (W. K. Chagula)', 'Sayed Abidi (S. A. H. Abidi)', {'weight': 1}), ('Wilbert Chagula (W. K. Chagula)', 'Boloki Chango Machyo', {'weight': 1}), ('Sayed Abidi (S. A. H. Abidi)', 'Sayed Abidi (S. A. H. Abidi)', {'weight': 1}), ('Sayed Abidi (S. A. H. Abidi)', 'Boloki Chango Machyo', {'weight': 1}), ('Boloki Chango Machyo', 'Boloki Chango Machyo', {'weight': 1}), ('Taban Lo Liyon', 'Taban Lo Liyon', {'weight': 1}), ('Kirunda Kivejinja', 'Kirunda Kivejinja', {'weight': 1}), (\"Hilary Ng'weno\", \"Hilary Ng'weno\", {'weight': 1})])"
      ]
     },
     "execution_count": 90,
     "metadata": {},
     "output_type": "execute_result"
    }
   ],
   "source": [
    "G_inst.edges(data=True)"
   ]
  },
  {
   "cell_type": "code",
   "execution_count": null,
   "id": "24e7be9b-1a1a-4a82-8b12-e90cc91e43bd",
   "metadata": {},
   "outputs": [],
   "source": []
  },
  {
   "cell_type": "code",
   "execution_count": 82,
   "id": "d7accc01-f2f1-4b51-ae0e-03e9aca0b9d1",
   "metadata": {},
   "outputs": [],
   "source": [
    "json_data = nx.node_link_data(G_inst)"
   ]
  },
  {
   "cell_type": "code",
   "execution_count": 83,
   "id": "e7aa973e-e06b-46eb-b5f7-2e0635f2d900",
   "metadata": {},
   "outputs": [],
   "source": [
    "nodes = json_data[\"nodes\"]"
   ]
  },
  {
   "cell_type": "code",
   "execution_count": 85,
   "id": "685b6b0d-9242-4581-b6cf-def0d6fc72f5",
   "metadata": {},
   "outputs": [],
   "source": [
    "links = json_data[\"links\"]"
   ]
  },
  {
   "cell_type": "code",
   "execution_count": 86,
   "id": "291833bd-03ef-4b24-99bc-9243cee27ac8",
   "metadata": {},
   "outputs": [],
   "source": [
    "with open('nodes_inst.json', 'w') as outfile:\n",
    "    outfile.write(s1)"
   ]
  },
  {
   "cell_type": "code",
   "execution_count": 87,
   "id": "4eb8ff64-f628-449f-9bd3-38322b2ac717",
   "metadata": {},
   "outputs": [],
   "source": [
    "with open('links_inst.json', 'w') as outfile:\n",
    "    outfile.write(json.dumps(links))"
   ]
  },
  {
   "cell_type": "code",
   "execution_count": null,
   "id": "b69fc918-41ba-4f10-8300-e52fbd3382fc",
   "metadata": {},
   "outputs": [],
   "source": []
  }
 ],
 "metadata": {
  "kernelspec": {
   "display_name": "Python 3 (ipykernel)",
   "language": "python",
   "name": "python3"
  },
  "language_info": {
   "codemirror_mode": {
    "name": "ipython",
    "version": 3
   },
   "file_extension": ".py",
   "mimetype": "text/x-python",
   "name": "python",
   "nbconvert_exporter": "python",
   "pygments_lexer": "ipython3",
   "version": "3.10.9"
  }
 },
 "nbformat": 4,
 "nbformat_minor": 5
}
