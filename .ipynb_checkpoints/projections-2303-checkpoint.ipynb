{
 "cells": [
  {
   "cell_type": "code",
   "execution_count": 1,
   "id": "478df34a-9127-4db6-b737-8455aa49cb27",
   "metadata": {},
   "outputs": [],
   "source": [
    "import json\n",
    "\n",
    "import pandas as pd\n",
    "import networkx as nx\n",
    "from networkx.algorithms import bipartite\n",
    "import numpy as np"
   ]
  },
  {
   "cell_type": "code",
   "execution_count": 2,
   "id": "39e7ddf8-bd61-46ea-9408-0fa3e983ba92",
   "metadata": {},
   "outputs": [],
   "source": [
    "folder = \"data/march-19/\""
   ]
  },
  {
   "cell_type": "code",
   "execution_count": 3,
   "id": "066ad137-d87e-447c-8406-3cc9f3480c74",
   "metadata": {},
   "outputs": [],
   "source": [
    "person_instit_fn = \"Person-Institution.csv\"\n",
    "person_pub_fn = \"Person-Publication.csv\""
   ]
  },
  {
   "cell_type": "code",
   "execution_count": 4,
   "id": "d15b9f81-378b-4469-964b-e4a37663a8dc",
   "metadata": {},
   "outputs": [],
   "source": [
    "pi_path = folder + person_instit_fn\n",
    "pp_path = folder + person_instit_fn"
   ]
  },
  {
   "cell_type": "code",
   "execution_count": 5,
   "id": "d15fb4d7-0dd8-4133-8509-1daf4213b85a",
   "metadata": {},
   "outputs": [],
   "source": [
    "df_pi = pd.read_csv(pi_path)\n",
    "df_pp = pd.read_csv(pp_path)"
   ]
  },
  {
   "cell_type": "code",
   "execution_count": 6,
   "id": "5e6eaa3c-a3cf-485b-9a24-f8280505c48e",
   "metadata": {},
   "outputs": [
    {
     "data": {
      "text/html": [
       "<div>\n",
       "<style scoped>\n",
       "    .dataframe tbody tr th:only-of-type {\n",
       "        vertical-align: middle;\n",
       "    }\n",
       "\n",
       "    .dataframe tbody tr th {\n",
       "        vertical-align: top;\n",
       "    }\n",
       "\n",
       "    .dataframe thead th {\n",
       "        text-align: right;\n",
       "    }\n",
       "</style>\n",
       "<table border=\"1\" class=\"dataframe\">\n",
       "  <thead>\n",
       "    <tr style=\"text-align: right;\">\n",
       "      <th></th>\n",
       "      <th>Person</th>\n",
       "      <th>Institution</th>\n",
       "      <th>Type of relationship (professor, director, etc)</th>\n",
       "      <th>Time (discrete or interval)</th>\n",
       "      <th>Brief note</th>\n",
       "    </tr>\n",
       "  </thead>\n",
       "  <tbody>\n",
       "    <tr>\n",
       "      <th>0</th>\n",
       "      <td>Bethwell Ogot</td>\n",
       "      <td>Makerere University</td>\n",
       "      <td>Lecturer in History Department</td>\n",
       "      <td>NaN</td>\n",
       "      <td>Friend of Tom Mboya</td>\n",
       "    </tr>\n",
       "    <tr>\n",
       "      <th>1</th>\n",
       "      <td>Bethwell Ogot</td>\n",
       "      <td>University of Nairobi</td>\n",
       "      <td>Head of History Department</td>\n",
       "      <td>NaN</td>\n",
       "      <td>NaN</td>\n",
       "    </tr>\n",
       "    <tr>\n",
       "      <th>2</th>\n",
       "      <td>Bethwell Ogot</td>\n",
       "      <td>East African Institute for Social and Cultural...</td>\n",
       "      <td>NaN</td>\n",
       "      <td>NaN</td>\n",
       "      <td>NaN</td>\n",
       "    </tr>\n",
       "    <tr>\n",
       "      <th>3</th>\n",
       "      <td>Sam Ntiro</td>\n",
       "      <td>East Africa High Commission, London</td>\n",
       "      <td>High commissioner</td>\n",
       "      <td>early 60s</td>\n",
       "      <td>NaN</td>\n",
       "    </tr>\n",
       "    <tr>\n",
       "      <th>4</th>\n",
       "      <td>Shaaban Robert</td>\n",
       "      <td>Inter-territorial Language (Swahili) committee</td>\n",
       "      <td>NaN</td>\n",
       "      <td>NaN</td>\n",
       "      <td>NaN</td>\n",
       "    </tr>\n",
       "  </tbody>\n",
       "</table>\n",
       "</div>"
      ],
      "text/plain": [
       "           Person                                        Institution  \\\n",
       "0   Bethwell Ogot                                Makerere University   \n",
       "1   Bethwell Ogot                              University of Nairobi   \n",
       "2   Bethwell Ogot  East African Institute for Social and Cultural...   \n",
       "3      Sam Ntiro                 East Africa High Commission, London   \n",
       "4  Shaaban Robert     Inter-territorial Language (Swahili) committee   \n",
       "\n",
       "  Type of relationship (professor, director, etc) Time (discrete or interval)  \\\n",
       "0                  Lecturer in History Department                         NaN   \n",
       "1                      Head of History Department                         NaN   \n",
       "2                                             NaN                         NaN   \n",
       "3                              High commissioner                    early 60s   \n",
       "4                                             NaN                         NaN   \n",
       "\n",
       "            Brief note  \n",
       "0  Friend of Tom Mboya  \n",
       "1                  NaN  \n",
       "2                  NaN  \n",
       "3                  NaN  \n",
       "4                  NaN  "
      ]
     },
     "execution_count": 6,
     "metadata": {},
     "output_type": "execute_result"
    }
   ],
   "source": [
    "df_pi.head()"
   ]
  },
  {
   "cell_type": "code",
   "execution_count": 41,
   "id": "fc84697e-ca48-4947-846d-2776ff467519",
   "metadata": {},
   "outputs": [],
   "source": [
    "# G_pi = nx.MultiGraph()\n",
    "G_pi = nx.Graph()\n",
    "\n",
    "for i, col in df_pi.iterrows():\n",
    "    person = col.Person\n",
    "    inst = col.Institution\n",
    "    \n",
    "    G_pi.add_node(person, type=\"person\")\n",
    "    G_pi.add_node(inst, type=\"institution\")\n",
    "    \n",
    "    typed = col[\"Type of relationship (professor, director, etc)\"]\n",
    "    # print(person, inst, typed)\n",
    "    \n",
    "    key = typed\n",
    "    # print(key)\n",
    "    if not key or pd.isna(key) :\n",
    "        # print(1)\n",
    "        key = \"test\"\n",
    "    \n",
    "    G_pi.add_edge(person, inst, key=key)\n",
    "    \n",
    "    "
   ]
  },
  {
   "cell_type": "code",
   "execution_count": 42,
   "id": "f8d8c83d-f082-4531-bf43-cc58f421f1a7",
   "metadata": {},
   "outputs": [],
   "source": [
    "person_nodes = [x for x,y in G_pi.nodes(data=True) if y['type']==\"person\"]\n",
    "inst_nodes = [x for x,y in G_pi.nodes(data=True) if y['type']==\"institution\"]"
   ]
  },
  {
   "cell_type": "code",
   "execution_count": 43,
   "id": "9ab56462-64ba-44f9-833e-b7c8a5e60d48",
   "metadata": {},
   "outputs": [],
   "source": [
    "# person_nodes"
   ]
  },
  {
   "cell_type": "code",
   "execution_count": 44,
   "id": "80531f25-be19-4ab0-b911-dc6582b5a0ce",
   "metadata": {},
   "outputs": [],
   "source": [
    "person_i_proj = bipartite.projected_graph(G_pi, person_nodes, multigraph=True)"
   ]
  },
  {
   "cell_type": "code",
   "execution_count": 45,
   "id": "4566628a-1096-40da-a350-0d30127ca052",
   "metadata": {},
   "outputs": [
    {
     "data": {
      "text/plain": [
       "<networkx.classes.multigraph.MultiGraph at 0x7fc1ca357820>"
      ]
     },
     "execution_count": 45,
     "metadata": {},
     "output_type": "execute_result"
    }
   ],
   "source": [
    "person_i_proj"
   ]
  },
  {
   "cell_type": "code",
   "execution_count": 46,
   "id": "9d28a9ee-e503-41ed-be97-7a903512480e",
   "metadata": {},
   "outputs": [],
   "source": [
    "json_data = nx.node_link_data(G_pi)\n",
    "links = json_data[\"links\"]\n",
    "with open('links_personProjInst.json', 'w') as outfile:\n",
    "    outfile.write(json.dumps(links))"
   ]
  },
  {
   "cell_type": "code",
   "execution_count": 79,
   "id": "f3c28daa-c4f0-4248-a7bd-5ee35460a2ee",
   "metadata": {},
   "outputs": [],
   "source": [
    "G_inst = nx.Graph()\n",
    "\n",
    "# for i, col in df_inst.iterrows():\n",
    "for i, col in df_inst.iterrows():\n",
    "    person = col.Person\n",
    "    pubs = col[INST].split(\",\")\n",
    "    \n",
    "    G_inst.add_node(person, pubs=pubs)\n",
    "    \n",
    "    for node, pubs2 in G_inst.nodes(data=\"pubs\"):\n",
    "        # print(node, pubs)\n",
    "        intersection = np.intersect1d(pubs, pubs2)\n",
    "        if len(intersection) > 0:\n",
    "            G_inst.add_edge(person, node, weight=len(intersection))"
   ]
  },
  {
   "cell_type": "code",
   "execution_count": 88,
   "id": "a34f7042-d833-403d-a3bd-1e52e0bfca69",
   "metadata": {},
   "outputs": [
    {
     "data": {
      "text/plain": [
       "NodeDataView({'Sam Ntiro ': {'pubs': ['High commissioner in London in early 60s']}, 'Bethwell Ogot': {'pubs': ['Makerere', ' University of Nairobi']}, 'Rebecca Njau': {'pubs': ['Makerere', ' Paa ya Paa Gallery']}, 'Elvania Namukwaya Zirimu': {'pubs': ['Makerere', ' Uganda National Theatre']}, 'Micere Mugo': {'pubs': ['Makerere', ' University of Nairobi']}, 'Grace Ogot': {'pubs': ['Mengo Nursing Training College (Uganda)']}, 'Rose Mbowa': {'pubs': ['Makerere University', ' University of Leeds', ' Uganda National Theatre']}, 'Noah Sempira': {'pubs': ['EALB']}, 'Reuben Olembo': {'pubs': ['Makerere', ' Mboya airlifts']}, 'Wilbert Chagula (W. K. Chagula)': {'pubs': ['Makerere', ' UDSM', ' later UN']}, 'Sayed Abidi (S. A. H. Abidi)': {'pubs': ['Makerere']}, 'Boloki Chango Machyo': {'pubs': ['Makerere']}, 'Taban Lo Liyon': {'pubs': ['Univeristy of Nairobi']}, 'Kirunda Kivejinja': {'pubs': ['Univeristy of Delhi']}, \"Hilary Ng'weno\": {'pubs': ['Nation Media Group; Mboya airlifts']}})"
      ]
     },
     "execution_count": 88,
     "metadata": {},
     "output_type": "execute_result"
    }
   ],
   "source": [
    "G_inst.nodes(True)"
   ]
  },
  {
   "cell_type": "code",
   "execution_count": 90,
   "id": "faeb2481-e073-4444-a256-376d8174aab8",
   "metadata": {},
   "outputs": [
    {
     "data": {
      "text/plain": [
       "EdgeDataView([('Sam Ntiro ', 'Sam Ntiro ', {'weight': 1}), ('Bethwell Ogot', 'Bethwell Ogot', {'weight': 2}), ('Bethwell Ogot', 'Rebecca Njau', {'weight': 1}), ('Bethwell Ogot', 'Elvania Namukwaya Zirimu', {'weight': 1}), ('Bethwell Ogot', 'Micere Mugo', {'weight': 2}), ('Bethwell Ogot', 'Reuben Olembo', {'weight': 1}), ('Bethwell Ogot', 'Wilbert Chagula (W. K. Chagula)', {'weight': 1}), ('Bethwell Ogot', 'Sayed Abidi (S. A. H. Abidi)', {'weight': 1}), ('Bethwell Ogot', 'Boloki Chango Machyo', {'weight': 1}), ('Rebecca Njau', 'Rebecca Njau', {'weight': 2}), ('Rebecca Njau', 'Elvania Namukwaya Zirimu', {'weight': 1}), ('Rebecca Njau', 'Micere Mugo', {'weight': 1}), ('Rebecca Njau', 'Reuben Olembo', {'weight': 1}), ('Rebecca Njau', 'Wilbert Chagula (W. K. Chagula)', {'weight': 1}), ('Rebecca Njau', 'Sayed Abidi (S. A. H. Abidi)', {'weight': 1}), ('Rebecca Njau', 'Boloki Chango Machyo', {'weight': 1}), ('Elvania Namukwaya Zirimu', 'Elvania Namukwaya Zirimu', {'weight': 2}), ('Elvania Namukwaya Zirimu', 'Micere Mugo', {'weight': 1}), ('Elvania Namukwaya Zirimu', 'Rose Mbowa', {'weight': 1}), ('Elvania Namukwaya Zirimu', 'Reuben Olembo', {'weight': 1}), ('Elvania Namukwaya Zirimu', 'Wilbert Chagula (W. K. Chagula)', {'weight': 1}), ('Elvania Namukwaya Zirimu', 'Sayed Abidi (S. A. H. Abidi)', {'weight': 1}), ('Elvania Namukwaya Zirimu', 'Boloki Chango Machyo', {'weight': 1}), ('Micere Mugo', 'Micere Mugo', {'weight': 2}), ('Micere Mugo', 'Reuben Olembo', {'weight': 1}), ('Micere Mugo', 'Wilbert Chagula (W. K. Chagula)', {'weight': 1}), ('Micere Mugo', 'Sayed Abidi (S. A. H. Abidi)', {'weight': 1}), ('Micere Mugo', 'Boloki Chango Machyo', {'weight': 1}), ('Grace Ogot', 'Grace Ogot', {'weight': 1}), ('Rose Mbowa', 'Rose Mbowa', {'weight': 3}), ('Noah Sempira', 'Noah Sempira', {'weight': 1}), ('Reuben Olembo', 'Reuben Olembo', {'weight': 2}), ('Reuben Olembo', 'Wilbert Chagula (W. K. Chagula)', {'weight': 1}), ('Reuben Olembo', 'Sayed Abidi (S. A. H. Abidi)', {'weight': 1}), ('Reuben Olembo', 'Boloki Chango Machyo', {'weight': 1}), ('Wilbert Chagula (W. K. Chagula)', 'Wilbert Chagula (W. K. Chagula)', {'weight': 3}), ('Wilbert Chagula (W. K. Chagula)', 'Sayed Abidi (S. A. H. Abidi)', {'weight': 1}), ('Wilbert Chagula (W. K. Chagula)', 'Boloki Chango Machyo', {'weight': 1}), ('Sayed Abidi (S. A. H. Abidi)', 'Sayed Abidi (S. A. H. Abidi)', {'weight': 1}), ('Sayed Abidi (S. A. H. Abidi)', 'Boloki Chango Machyo', {'weight': 1}), ('Boloki Chango Machyo', 'Boloki Chango Machyo', {'weight': 1}), ('Taban Lo Liyon', 'Taban Lo Liyon', {'weight': 1}), ('Kirunda Kivejinja', 'Kirunda Kivejinja', {'weight': 1}), (\"Hilary Ng'weno\", \"Hilary Ng'weno\", {'weight': 1})])"
      ]
     },
     "execution_count": 90,
     "metadata": {},
     "output_type": "execute_result"
    }
   ],
   "source": [
    "G_inst.edges(data=True)"
   ]
  },
  {
   "cell_type": "code",
   "execution_count": null,
   "id": "24e7be9b-1a1a-4a82-8b12-e90cc91e43bd",
   "metadata": {},
   "outputs": [],
   "source": []
  },
  {
   "cell_type": "code",
   "execution_count": 82,
   "id": "d7accc01-f2f1-4b51-ae0e-03e9aca0b9d1",
   "metadata": {},
   "outputs": [],
   "source": [
    "json_data = nx.node_link_data(G_inst)"
   ]
  },
  {
   "cell_type": "code",
   "execution_count": 83,
   "id": "e7aa973e-e06b-46eb-b5f7-2e0635f2d900",
   "metadata": {},
   "outputs": [],
   "source": [
    "nodes = json_data[\"nodes\"]"
   ]
  },
  {
   "cell_type": "code",
   "execution_count": 85,
   "id": "685b6b0d-9242-4581-b6cf-def0d6fc72f5",
   "metadata": {},
   "outputs": [],
   "source": [
    "links = json_data[\"links\"]"
   ]
  },
  {
   "cell_type": "code",
   "execution_count": 86,
   "id": "291833bd-03ef-4b24-99bc-9243cee27ac8",
   "metadata": {},
   "outputs": [],
   "source": [
    "with open('nodes_inst.json', 'w') as outfile:\n",
    "    outfile.write(s1)"
   ]
  },
  {
   "cell_type": "code",
   "execution_count": 87,
   "id": "4eb8ff64-f628-449f-9bd3-38322b2ac717",
   "metadata": {},
   "outputs": [],
   "source": [
    "with open('links_inst.json', 'w') as outfile:\n",
    "    outfile.write(json.dumps(links))"
   ]
  },
  {
   "cell_type": "code",
   "execution_count": null,
   "id": "b69fc918-41ba-4f10-8300-e52fbd3382fc",
   "metadata": {},
   "outputs": [],
   "source": []
  }
 ],
 "metadata": {
  "kernelspec": {
   "display_name": "Python 3 (ipykernel)",
   "language": "python",
   "name": "python3"
  },
  "language_info": {
   "codemirror_mode": {
    "name": "ipython",
    "version": 3
   },
   "file_extension": ".py",
   "mimetype": "text/x-python",
   "name": "python",
   "nbconvert_exporter": "python",
   "pygments_lexer": "ipython3",
   "version": "3.10.9"
  }
 },
 "nbformat": 4,
 "nbformat_minor": 5
}
